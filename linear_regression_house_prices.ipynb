{
 "cells": [
  {
   "cell_type": "markdown",
   "metadata": {},
   "source": [
    "# Linear Regression: predicting house prices\n",
    "\n",
    "(Data set: https://www.kaggle.com/c/house-prices-advanced-regression-techniques/data)\n",
    "\n",
    "- Load the houseprices data from Thinkful's database.\n",
    "- Do data cleaning, exploratory data analysis, and feature engineering.\n",
    "- Split your data into train and test sets where 20% of the data resides in the test set.\n",
    "- Build several linear regression models including Lasso, Ridge, or ElasticNet and train them in the training set. Use k-fold cross-validation to select the best hyperparameters if your models include one!\n",
    "- Evaluate your best model on the test set.\n",
    "- House prices can be affected by many factors like economic activity and the interest rates at the time they are sold. So, try to find some useful factors that are not included in the dataset. Integrate these factors into your model and assess the prediction performance of your model. Discuss the implications of adding these external variables into your model."
   ]
  },
  {
   "cell_type": "markdown",
   "metadata": {},
   "source": [
    "### Baseline Model:\n",
    "\n",
    "Quality, size and age of a house affect house price. The better the quality, the larger the house, the younger the house -- the higher the house price. We'll test this assumption by using linear regression and Ridge, LASSO or ElasticNet regression techniques.\n",
    "### Additional Data:\n",
    "\n",
    "Interest rates, population shifts, population income, and the availability of housing units affect house prices. We'll test this by adding economic data and running a new linear regression model."
   ]
  },
  {
   "cell_type": "code",
   "execution_count": 1,
   "metadata": {},
   "outputs": [],
   "source": [
    "import numpy as np\n",
    "import pandas as pd\n",
    "\n",
    "from scipy.stats.mstats import winsorize\n",
    "from scipy.stats import boxcox\n",
    "\n",
    "from sklearn.preprocessing import scale\n",
    "from sklearn.linear_model import LinearRegression, Lasso, ElasticNet\n",
    "from sklearn.model_selection import train_test_split, cross_val_score\n",
    "from sklearn.metrics import mean_absolute_error\n",
    "\n",
    "import statsmodels.api as sm\n",
    "from statsmodels.tools.eval_measures import mse\n",
    "\n",
    "from sqlalchemy import create_engine\n",
    "\n",
    "import seaborn as sns\n",
    "import matplotlib.pyplot as plt\n",
    "\n",
    "%matplotlib inline\n",
    "pd.options.display.float_format = '{:.3f}'.format\n",
    "\n",
    "import warnings\n",
    "warnings.filterwarnings(action=\"ignore\")"
   ]
  },
  {
   "cell_type": "code",
   "execution_count": 2,
   "metadata": {},
   "outputs": [],
   "source": [
    "postgres_user = 'dsbc_student'\n",
    "postgres_pw = '7*.8G9QH21'\n",
    "postgres_host = '142.93.121.174'\n",
    "postgres_port = '5432'\n",
    "postgres_db = 'houseprices'\n",
    "\n",
    "engine = create_engine('postgresql://{}:{}@{}:{}/{}'.format(\n",
    "    postgres_user, postgres_pw, postgres_host, postgres_port, postgres_db))\n",
    "hp_df = pd.read_sql_query('select * from houseprices',con=engine)\n",
    "\n",
    "engine.dispose()"
   ]
  },
  {
   "cell_type": "markdown",
   "metadata": {},
   "source": [
    "# Part I - Original Dataset"
   ]
  },
  {
   "cell_type": "markdown",
   "metadata": {},
   "source": [
    "### Data Cleaning, EDA, Feature Engineering"
   ]
  },
  {
   "cell_type": "code",
   "execution_count": 3,
   "metadata": {},
   "outputs": [
    {
     "data": {
      "text/html": [
       "<div>\n",
       "<style scoped>\n",
       "    .dataframe tbody tr th:only-of-type {\n",
       "        vertical-align: middle;\n",
       "    }\n",
       "\n",
       "    .dataframe tbody tr th {\n",
       "        vertical-align: top;\n",
       "    }\n",
       "\n",
       "    .dataframe thead th {\n",
       "        text-align: right;\n",
       "    }\n",
       "</style>\n",
       "<table border=\"1\" class=\"dataframe\">\n",
       "  <thead>\n",
       "    <tr style=\"text-align: right;\">\n",
       "      <th></th>\n",
       "      <th>id</th>\n",
       "      <th>mssubclass</th>\n",
       "      <th>mszoning</th>\n",
       "      <th>lotfrontage</th>\n",
       "      <th>lotarea</th>\n",
       "      <th>street</th>\n",
       "      <th>alley</th>\n",
       "      <th>lotshape</th>\n",
       "      <th>landcontour</th>\n",
       "      <th>utilities</th>\n",
       "      <th>...</th>\n",
       "      <th>poolarea</th>\n",
       "      <th>poolqc</th>\n",
       "      <th>fence</th>\n",
       "      <th>miscfeature</th>\n",
       "      <th>miscval</th>\n",
       "      <th>mosold</th>\n",
       "      <th>yrsold</th>\n",
       "      <th>saletype</th>\n",
       "      <th>salecondition</th>\n",
       "      <th>saleprice</th>\n",
       "    </tr>\n",
       "  </thead>\n",
       "  <tbody>\n",
       "    <tr>\n",
       "      <th>0</th>\n",
       "      <td>1</td>\n",
       "      <td>60</td>\n",
       "      <td>RL</td>\n",
       "      <td>65.000</td>\n",
       "      <td>8450</td>\n",
       "      <td>Pave</td>\n",
       "      <td>None</td>\n",
       "      <td>Reg</td>\n",
       "      <td>Lvl</td>\n",
       "      <td>AllPub</td>\n",
       "      <td>...</td>\n",
       "      <td>0</td>\n",
       "      <td>None</td>\n",
       "      <td>None</td>\n",
       "      <td>None</td>\n",
       "      <td>0</td>\n",
       "      <td>2</td>\n",
       "      <td>2008</td>\n",
       "      <td>WD</td>\n",
       "      <td>Normal</td>\n",
       "      <td>208500</td>\n",
       "    </tr>\n",
       "    <tr>\n",
       "      <th>1</th>\n",
       "      <td>2</td>\n",
       "      <td>20</td>\n",
       "      <td>RL</td>\n",
       "      <td>80.000</td>\n",
       "      <td>9600</td>\n",
       "      <td>Pave</td>\n",
       "      <td>None</td>\n",
       "      <td>Reg</td>\n",
       "      <td>Lvl</td>\n",
       "      <td>AllPub</td>\n",
       "      <td>...</td>\n",
       "      <td>0</td>\n",
       "      <td>None</td>\n",
       "      <td>None</td>\n",
       "      <td>None</td>\n",
       "      <td>0</td>\n",
       "      <td>5</td>\n",
       "      <td>2007</td>\n",
       "      <td>WD</td>\n",
       "      <td>Normal</td>\n",
       "      <td>181500</td>\n",
       "    </tr>\n",
       "    <tr>\n",
       "      <th>2</th>\n",
       "      <td>3</td>\n",
       "      <td>60</td>\n",
       "      <td>RL</td>\n",
       "      <td>68.000</td>\n",
       "      <td>11250</td>\n",
       "      <td>Pave</td>\n",
       "      <td>None</td>\n",
       "      <td>IR1</td>\n",
       "      <td>Lvl</td>\n",
       "      <td>AllPub</td>\n",
       "      <td>...</td>\n",
       "      <td>0</td>\n",
       "      <td>None</td>\n",
       "      <td>None</td>\n",
       "      <td>None</td>\n",
       "      <td>0</td>\n",
       "      <td>9</td>\n",
       "      <td>2008</td>\n",
       "      <td>WD</td>\n",
       "      <td>Normal</td>\n",
       "      <td>223500</td>\n",
       "    </tr>\n",
       "    <tr>\n",
       "      <th>3</th>\n",
       "      <td>4</td>\n",
       "      <td>70</td>\n",
       "      <td>RL</td>\n",
       "      <td>60.000</td>\n",
       "      <td>9550</td>\n",
       "      <td>Pave</td>\n",
       "      <td>None</td>\n",
       "      <td>IR1</td>\n",
       "      <td>Lvl</td>\n",
       "      <td>AllPub</td>\n",
       "      <td>...</td>\n",
       "      <td>0</td>\n",
       "      <td>None</td>\n",
       "      <td>None</td>\n",
       "      <td>None</td>\n",
       "      <td>0</td>\n",
       "      <td>2</td>\n",
       "      <td>2006</td>\n",
       "      <td>WD</td>\n",
       "      <td>Abnorml</td>\n",
       "      <td>140000</td>\n",
       "    </tr>\n",
       "    <tr>\n",
       "      <th>4</th>\n",
       "      <td>5</td>\n",
       "      <td>60</td>\n",
       "      <td>RL</td>\n",
       "      <td>84.000</td>\n",
       "      <td>14260</td>\n",
       "      <td>Pave</td>\n",
       "      <td>None</td>\n",
       "      <td>IR1</td>\n",
       "      <td>Lvl</td>\n",
       "      <td>AllPub</td>\n",
       "      <td>...</td>\n",
       "      <td>0</td>\n",
       "      <td>None</td>\n",
       "      <td>None</td>\n",
       "      <td>None</td>\n",
       "      <td>0</td>\n",
       "      <td>12</td>\n",
       "      <td>2008</td>\n",
       "      <td>WD</td>\n",
       "      <td>Normal</td>\n",
       "      <td>250000</td>\n",
       "    </tr>\n",
       "  </tbody>\n",
       "</table>\n",
       "<p>5 rows × 81 columns</p>\n",
       "</div>"
      ],
      "text/plain": [
       "   id  mssubclass mszoning  lotfrontage  lotarea street alley lotshape  \\\n",
       "0   1          60       RL       65.000     8450   Pave  None      Reg   \n",
       "1   2          20       RL       80.000     9600   Pave  None      Reg   \n",
       "2   3          60       RL       68.000    11250   Pave  None      IR1   \n",
       "3   4          70       RL       60.000     9550   Pave  None      IR1   \n",
       "4   5          60       RL       84.000    14260   Pave  None      IR1   \n",
       "\n",
       "  landcontour utilities  ... poolarea poolqc fence miscfeature miscval mosold  \\\n",
       "0         Lvl    AllPub  ...        0   None  None        None       0      2   \n",
       "1         Lvl    AllPub  ...        0   None  None        None       0      5   \n",
       "2         Lvl    AllPub  ...        0   None  None        None       0      9   \n",
       "3         Lvl    AllPub  ...        0   None  None        None       0      2   \n",
       "4         Lvl    AllPub  ...        0   None  None        None       0     12   \n",
       "\n",
       "  yrsold  saletype  salecondition  saleprice  \n",
       "0   2008        WD         Normal     208500  \n",
       "1   2007        WD         Normal     181500  \n",
       "2   2008        WD         Normal     223500  \n",
       "3   2006        WD        Abnorml     140000  \n",
       "4   2008        WD         Normal     250000  \n",
       "\n",
       "[5 rows x 81 columns]"
      ]
     },
     "execution_count": 3,
     "metadata": {},
     "output_type": "execute_result"
    }
   ],
   "source": [
    "hp_df.head()"
   ]
  },
  {
   "cell_type": "code",
   "execution_count": 4,
   "metadata": {},
   "outputs": [],
   "source": [
    "#hp_df.info()"
   ]
  },
  {
   "cell_type": "code",
   "execution_count": 5,
   "metadata": {},
   "outputs": [],
   "source": [
    "# get percentage of missing values:\n",
    "#(hp_df.isnull().sum()*100/hp_df.isnull().count()).sort_values(ascending=False)"
   ]
  },
  {
   "cell_type": "code",
   "execution_count": 6,
   "metadata": {},
   "outputs": [],
   "source": [
    "# drop variables with a lot of misisng values:\n",
    "hp_df = hp_df.drop(['poolqc',\n",
    "                    'miscfeature',\n",
    "                   'alley',\n",
    "                   'fence',\n",
    "                   'fireplacequ'], axis=1)"
   ]
  },
  {
   "cell_type": "code",
   "execution_count": 7,
   "metadata": {},
   "outputs": [],
   "source": [
    "# get all variables with numeric values:\n",
    "numeric = hp_df.select_dtypes(['int64', 'float64']).columns\n",
    "\n",
    "# get all variables that have string values:\n",
    "string = hp_df.select_dtypes(['object']).columns"
   ]
  },
  {
   "cell_type": "code",
   "execution_count": 8,
   "metadata": {},
   "outputs": [],
   "source": [
    "# impute data in the numeric variable by getting average values:\n",
    "hp_df['lotfrontage'].fillna(hp_df['lotfrontage'].mean(), inplace=True)"
   ]
  },
  {
   "cell_type": "code",
   "execution_count": 9,
   "metadata": {},
   "outputs": [],
   "source": [
    "# review unique values to get a sense of possible issues with data:\n",
    "# for column_name in hp_df.columns:\n",
    "#     print(\"Unique values in column {} are: {}\"\n",
    "#           .format(column_name, hp_df[column_name].unique()))"
   ]
  },
  {
   "cell_type": "markdown",
   "metadata": {},
   "source": [
    "### Target Variable\n",
    "\n",
    "**saleprice** is our target variable."
   ]
  },
  {
   "cell_type": "code",
   "execution_count": 10,
   "metadata": {},
   "outputs": [
    {
     "data": {
      "image/png": "[encoded data removed]",
      "text/plain": [
       "<Figure size 1080x360 with 2 Axes>"
      ]
     },
     "metadata": {
      "needs_background": "light"
     },
     "output_type": "display_data"
    }
   ],
   "source": [
    "# review outliers and the distribution of our target variable:\n",
    "plt.figure(figsize=(15,5))\n",
    "\n",
    "plt.subplot(1,2,1)\n",
    "plt.boxplot(hp_df['saleprice'], whis=5)\n",
    "plt.title('box plot of saleprice (whis=5)')\n",
    "\n",
    "plt.subplot(1,2,2)\n",
    "plt.hist(hp_df['saleprice'])\n",
    "plt.title('histogram of saleprice')\n",
    "plt.show()"
   ]
  },
  {
   "cell_type": "code",
   "execution_count": 11,
   "metadata": {},
   "outputs": [],
   "source": [
    "# winsorize the target variable to address outliers\n",
    "hp_df['saleprice'] = winsorize(hp_df['saleprice'], (0.01, 0.02))"
   ]
  },
  {
   "cell_type": "code",
   "execution_count": 12,
   "metadata": {},
   "outputs": [],
   "source": [
    "# log-transform the target variable to address non-normality of distribution:\n",
    "hp_df['saleprice'] = np.log(hp_df['saleprice'])"
   ]
  },
  {
   "cell_type": "code",
   "execution_count": 13,
   "metadata": {},
   "outputs": [
    {
     "data": {
      "image/png": "[encoded data removed]",
      "text/plain": [
       "<Figure size 1080x360 with 2 Axes>"
      ]
     },
     "metadata": {
      "needs_background": "light"
     },
     "output_type": "display_data"
    }
   ],
   "source": [
    "# review outliers and the distribution of our transformed target variable:\n",
    "plt.figure(figsize=(15,5))\n",
    "\n",
    "plt.subplot(1,2,1)\n",
    "plt.boxplot(hp_df['saleprice'], whis=5)\n",
    "plt.title('box plot of saleprice (whis=5)')\n",
    "\n",
    "plt.subplot(1,2,2)\n",
    "plt.hist(hp_df['saleprice'])\n",
    "plt.title('histogram of sale price')\n",
    "plt.show()"
   ]
  },
  {
   "cell_type": "markdown",
   "metadata": {},
   "source": [
    "After applying winsorization and log transformation, we have no outliers and variable is better distributed."
   ]
  },
  {
   "cell_type": "markdown",
   "metadata": {},
   "source": [
    "### Explanatory Variables\n",
    "\n",
    "Review correlation of variables with our target variable, identify continuous and categorical data, transform variables to address outliers and non-normality of distribution, and make all variables numeric."
   ]
  },
  {
   "cell_type": "code",
   "execution_count": 14,
   "metadata": {},
   "outputs": [
    {
     "data": {
      "text/plain": [
       "saleprice        1.000\n",
       "overallqual      0.817\n",
       "grlivarea        0.693\n",
       "garagecars       0.684\n",
       "garagearea       0.653\n",
       "totalbsmtsf      0.608\n",
       "yearbuilt        0.596\n",
       "fullbath         0.596\n",
       "firstflrsf       0.591\n",
       "yearremodadd     0.573\n",
       "garageyrblt      0.547\n",
       "totrmsabvgrd     0.528\n",
       "fireplaces       0.492\n",
       "masvnrarea       0.421\n",
       "bsmtfinsf1       0.366\n",
       "wooddecksf       0.336\n",
       "lotfrontage      0.334\n",
       "openporchsf      0.332\n",
       "secondflrsf      0.315\n",
       "halfbath         0.314\n",
       "lotarea          0.257\n",
       "bsmtfullbath     0.240\n",
       "bsmtunfsf        0.224\n",
       "bedroomabvgr     0.206\n",
       "screenporch      0.119\n",
       "mosold           0.065\n",
       "threessnporch    0.058\n",
       "poolarea         0.057\n",
       "bsmtfinsf2       0.004\n",
       "bsmthalfbath    -0.009\n",
       "miscval         -0.019\n",
       "yrsold          -0.038\n",
       "overallcond     -0.042\n",
       "lowqualfinsf    -0.043\n",
       "mssubclass      -0.077\n",
       "enclosedporch   -0.151\n",
       "kitchenabvgr    -0.152\n",
       "Name: saleprice, dtype: float64"
      ]
     },
     "execution_count": 14,
     "metadata": {},
     "output_type": "execute_result"
    }
   ],
   "source": [
    "# Review correlation of the target variable with numeric variables:\n",
    "hp_df_numeric = hp_df[hp_df.columns[1:]].corr()['saleprice'][:]\n",
    "hp_df_numeric.sort_values(ascending=False)"
   ]
  },
  {
   "cell_type": "markdown",
   "metadata": {},
   "source": [
    "Below are some of the variables with highest correlation (> 0.5) (some of these are technically categorical variables):\n",
    "\n",
    "- overallqual - Overall material and finish quality\n",
    "- grlivarea - Above grade (ground) living area square feet\n",
    "- garagecars - Size of garage in car capacity\n",
    "- garagearea - Size of garage in square feet\n",
    "- totalbsmtsf - Total square feet of basement area\n",
    "- firstflrsf - First Floor square feet\n",
    "- fullbath - Full bathrooms above grade\n",
    "- totrmsabvgrd - Total rooms above grade (does not include bathrooms)\n",
    "- yearbuilt - Original construction date\n",
    "- yearremodadd - Remodel date\n",
    "\n",
    "Some possible derivative variables:\n",
    "\n",
    "- totalsf = firstflrsf + secondflrsf (and then compare correlation with grlivarea)."
   ]
  },
  {
   "cell_type": "code",
   "execution_count": 15,
   "metadata": {},
   "outputs": [
    {
     "data": {
      "text/html": [
       "<div>\n",
       "<style scoped>\n",
       "    .dataframe tbody tr th:only-of-type {\n",
       "        vertical-align: middle;\n",
       "    }\n",
       "\n",
       "    .dataframe tbody tr th {\n",
       "        vertical-align: top;\n",
       "    }\n",
       "\n",
       "    .dataframe thead th {\n",
       "        text-align: right;\n",
       "    }\n",
       "</style>\n",
       "<table border=\"1\" class=\"dataframe\">\n",
       "  <thead>\n",
       "    <tr style=\"text-align: right;\">\n",
       "      <th></th>\n",
       "      <th>overallqual</th>\n",
       "      <th>grlivarea</th>\n",
       "      <th>garagecars</th>\n",
       "      <th>garagearea</th>\n",
       "      <th>totalbsmtsf</th>\n",
       "      <th>totalsf</th>\n",
       "      <th>fullbath</th>\n",
       "      <th>totrmsabvgrd</th>\n",
       "      <th>yearbuilt</th>\n",
       "      <th>yearremodadd</th>\n",
       "    </tr>\n",
       "  </thead>\n",
       "  <tbody>\n",
       "    <tr>\n",
       "      <th>0</th>\n",
       "      <td>7</td>\n",
       "      <td>1710</td>\n",
       "      <td>2</td>\n",
       "      <td>548</td>\n",
       "      <td>856</td>\n",
       "      <td>1710</td>\n",
       "      <td>2</td>\n",
       "      <td>8</td>\n",
       "      <td>2003</td>\n",
       "      <td>2003</td>\n",
       "    </tr>\n",
       "    <tr>\n",
       "      <th>1</th>\n",
       "      <td>6</td>\n",
       "      <td>1262</td>\n",
       "      <td>2</td>\n",
       "      <td>460</td>\n",
       "      <td>1262</td>\n",
       "      <td>1262</td>\n",
       "      <td>2</td>\n",
       "      <td>6</td>\n",
       "      <td>1976</td>\n",
       "      <td>1976</td>\n",
       "    </tr>\n",
       "    <tr>\n",
       "      <th>2</th>\n",
       "      <td>7</td>\n",
       "      <td>1786</td>\n",
       "      <td>2</td>\n",
       "      <td>608</td>\n",
       "      <td>920</td>\n",
       "      <td>1786</td>\n",
       "      <td>2</td>\n",
       "      <td>6</td>\n",
       "      <td>2001</td>\n",
       "      <td>2002</td>\n",
       "    </tr>\n",
       "    <tr>\n",
       "      <th>3</th>\n",
       "      <td>7</td>\n",
       "      <td>1717</td>\n",
       "      <td>3</td>\n",
       "      <td>642</td>\n",
       "      <td>756</td>\n",
       "      <td>1717</td>\n",
       "      <td>1</td>\n",
       "      <td>7</td>\n",
       "      <td>1915</td>\n",
       "      <td>1970</td>\n",
       "    </tr>\n",
       "    <tr>\n",
       "      <th>4</th>\n",
       "      <td>8</td>\n",
       "      <td>2198</td>\n",
       "      <td>3</td>\n",
       "      <td>836</td>\n",
       "      <td>1145</td>\n",
       "      <td>2198</td>\n",
       "      <td>2</td>\n",
       "      <td>9</td>\n",
       "      <td>2000</td>\n",
       "      <td>2000</td>\n",
       "    </tr>\n",
       "  </tbody>\n",
       "</table>\n",
       "</div>"
      ],
      "text/plain": [
       "   overallqual  grlivarea  garagecars  garagearea  totalbsmtsf  totalsf  \\\n",
       "0            7       1710           2         548          856     1710   \n",
       "1            6       1262           2         460         1262     1262   \n",
       "2            7       1786           2         608          920     1786   \n",
       "3            7       1717           3         642          756     1717   \n",
       "4            8       2198           3         836         1145     2198   \n",
       "\n",
       "   fullbath  totrmsabvgrd  yearbuilt  yearremodadd  \n",
       "0         2             8       2003          2003  \n",
       "1         2             6       1976          1976  \n",
       "2         2             6       2001          2002  \n",
       "3         1             7       1915          1970  \n",
       "4         2             9       2000          2000  "
      ]
     },
     "execution_count": 15,
     "metadata": {},
     "output_type": "execute_result"
    }
   ],
   "source": [
    "# calculate total square footage:\n",
    "hp_df['totalsf'] = hp_df['firstflrsf'] + hp_df['secondflrsf']\n",
    "\n",
    "# create a dataframe of possible features:\n",
    "features = hp_df[['overallqual', 'grlivarea', 'garagecars',\n",
    "          'garagearea', 'totalbsmtsf', 'totalsf', 'fullbath', 'totrmsabvgrd',\n",
    "                 'yearbuilt', 'yearremodadd']]\n",
    "features.head()"
   ]
  },
  {
   "cell_type": "code",
   "execution_count": 16,
   "metadata": {},
   "outputs": [],
   "source": [
    "#features.describe()"
   ]
  },
  {
   "cell_type": "code",
   "execution_count": 17,
   "metadata": {},
   "outputs": [
    {
     "data": {
      "text/plain": [
       "<matplotlib.axes._subplots.AxesSubplot at 0x12392e0b8>"
      ]
     },
     "execution_count": 17,
     "metadata": {},
     "output_type": "execute_result"
    },
    {
     "data": {
      "image/png": "[encoded data removed]",
      "text/plain": [
       "<Figure size 720x720 with 2 Axes>"
      ]
     },
     "metadata": {
      "needs_background": "light"
     },
     "output_type": "display_data"
    }
   ],
   "source": [
    "# review correlation of the features:\n",
    "plt.figure(figsize=(10,10))\n",
    "features_corr = features.corr()\n",
    "sns.heatmap(features_corr, annot=True, square=True)"
   ]
  },
  {
   "cell_type": "code",
   "execution_count": 18,
   "metadata": {},
   "outputs": [],
   "source": [
    "# drop variables higly correlated with others:\n",
    "features = features.drop(['totalsf',\n",
    "                         'garagecars',\n",
    "                         'totrmsabvgrd'], axis=1)"
   ]
  },
  {
   "cell_type": "markdown",
   "metadata": {},
   "source": [
    "**overallqual** can be considered both categorical (it takes on 10 values), and continous (quality of \"10\" is higher than quality of \"1\"). We'll keep this variable as is.\n"
   ]
  },
  {
   "cell_type": "code",
   "execution_count": 19,
   "metadata": {},
   "outputs": [
    {
     "data": {
      "text/plain": [
       "2    768\n",
       "1    650\n",
       "3     33\n",
       "0      9\n",
       "Name: fullbath, dtype: int64"
      ]
     },
     "execution_count": 19,
     "metadata": {},
     "output_type": "execute_result"
    }
   ],
   "source": [
    "features['fullbath'].value_counts()"
   ]
  },
  {
   "cell_type": "markdown",
   "metadata": {},
   "source": [
    "**fullbath** seems like categorical variable with only a few options; 0, 1, 2 or 3 full bathrooms. Zero full bathrooms could be data entry errors, but this is uncertain. We'll create a new category with \"1\" meaning \"more than one fullbath\" and \"0\" meaning \"one fullbath or less.\""
   ]
  },
  {
   "cell_type": "code",
   "execution_count": 20,
   "metadata": {},
   "outputs": [
    {
     "name": "stdout",
     "output_type": "stream",
     "text": [
      "True     801\n",
      "False    659\n",
      "Name: fullbath, dtype: int64\n"
     ]
    }
   ],
   "source": [
    "more1_fullbath = features['fullbath'] > 1\n",
    "print(more1_fullbath.value_counts())\n",
    "features['fullbath'] = more1_fullbath.replace(True, 'more1_fullbath').replace(False, 'one_fullbath')\n",
    "features = pd.concat([features, pd.get_dummies(features['fullbath'])], axis=1)\n",
    "features = features.drop('fullbath', axis=1).drop('one_fullbath', axis=1)\n",
    "#features.head()"
   ]
  },
  {
   "cell_type": "markdown",
   "metadata": {},
   "source": [
    "\n",
    "We'll turn **yearbuilt**, **yearremodadd** into dummy variables."
   ]
  },
  {
   "cell_type": "code",
   "execution_count": 21,
   "metadata": {},
   "outputs": [
    {
     "data": {
      "text/plain": [
       "<function matplotlib.pyplot.show(*args, **kw)>"
      ]
     },
     "execution_count": 21,
     "metadata": {},
     "output_type": "execute_result"
    },
    {
     "data": {
      "image/png": "[encoded data removed]",
      "text/plain": [
       "<Figure size 432x288 with 1 Axes>"
      ]
     },
     "metadata": {
      "needs_background": "light"
     },
     "output_type": "display_data"
    }
   ],
   "source": [
    "plt.hist(features['yearbuilt'])\n",
    "plt.show"
   ]
  },
  {
   "cell_type": "code",
   "execution_count": 22,
   "metadata": {},
   "outputs": [
    {
     "data": {
      "text/plain": [
       "True     958\n",
       "False    502\n",
       "Name: yearbuilt, dtype: int64"
      ]
     },
     "execution_count": 22,
     "metadata": {},
     "output_type": "execute_result"
    }
   ],
   "source": [
    "yearbuilt_after1960 = features['yearbuilt'] > 1960\n",
    "yearbuilt_after1960.value_counts()"
   ]
  },
  {
   "cell_type": "code",
   "execution_count": 23,
   "metadata": {},
   "outputs": [],
   "source": [
    "features['yearbuilt'] = yearbuilt_after1960.replace(True, 'yearbuilt_after1960').replace(False, 'before1960')\n",
    "features = pd.concat([features, pd.get_dummies(features['yearbuilt'])],axis=1)\n",
    "features = features.drop('yearbuilt', axis=1).drop('before1960', axis=1)"
   ]
  },
  {
   "cell_type": "code",
   "execution_count": 24,
   "metadata": {},
   "outputs": [
    {
     "data": {
      "text/plain": [
       "<function matplotlib.pyplot.show(*args, **kw)>"
      ]
     },
     "execution_count": 24,
     "metadata": {},
     "output_type": "execute_result"
    },
    {
     "data": {
      "image/png": "[encoded data removed]",
      "text/plain": [
       "<Figure size 432x288 with 1 Axes>"
      ]
     },
     "metadata": {
      "needs_background": "light"
     },
     "output_type": "display_data"
    }
   ],
   "source": [
    "plt.hist(features['yearremodadd'])\n",
    "plt.show"
   ]
  },
  {
   "cell_type": "code",
   "execution_count": 25,
   "metadata": {},
   "outputs": [
    {
     "data": {
      "text/plain": [
       "True     782\n",
       "False    678\n",
       "Name: yearremodadd, dtype: int64"
      ]
     },
     "execution_count": 25,
     "metadata": {},
     "output_type": "execute_result"
    }
   ],
   "source": [
    "yearremodadd_after1990 = features['yearremodadd'] > 1990\n",
    "yearremodadd_after1990.value_counts()"
   ]
  },
  {
   "cell_type": "code",
   "execution_count": 26,
   "metadata": {},
   "outputs": [
    {
     "data": {
      "text/html": [
       "<div>\n",
       "<style scoped>\n",
       "    .dataframe tbody tr th:only-of-type {\n",
       "        vertical-align: middle;\n",
       "    }\n",
       "\n",
       "    .dataframe tbody tr th {\n",
       "        vertical-align: top;\n",
       "    }\n",
       "\n",
       "    .dataframe thead th {\n",
       "        text-align: right;\n",
       "    }\n",
       "</style>\n",
       "<table border=\"1\" class=\"dataframe\">\n",
       "  <thead>\n",
       "    <tr style=\"text-align: right;\">\n",
       "      <th></th>\n",
       "      <th>overallqual</th>\n",
       "      <th>grlivarea</th>\n",
       "      <th>garagearea</th>\n",
       "      <th>totalbsmtsf</th>\n",
       "      <th>more1_fullbath</th>\n",
       "      <th>yearbuilt_after1960</th>\n",
       "      <th>yearremodadd_after1990</th>\n",
       "    </tr>\n",
       "  </thead>\n",
       "  <tbody>\n",
       "    <tr>\n",
       "      <th>0</th>\n",
       "      <td>7</td>\n",
       "      <td>1710</td>\n",
       "      <td>548</td>\n",
       "      <td>856</td>\n",
       "      <td>1</td>\n",
       "      <td>1</td>\n",
       "      <td>1</td>\n",
       "    </tr>\n",
       "    <tr>\n",
       "      <th>1</th>\n",
       "      <td>6</td>\n",
       "      <td>1262</td>\n",
       "      <td>460</td>\n",
       "      <td>1262</td>\n",
       "      <td>1</td>\n",
       "      <td>1</td>\n",
       "      <td>0</td>\n",
       "    </tr>\n",
       "    <tr>\n",
       "      <th>2</th>\n",
       "      <td>7</td>\n",
       "      <td>1786</td>\n",
       "      <td>608</td>\n",
       "      <td>920</td>\n",
       "      <td>1</td>\n",
       "      <td>1</td>\n",
       "      <td>1</td>\n",
       "    </tr>\n",
       "    <tr>\n",
       "      <th>3</th>\n",
       "      <td>7</td>\n",
       "      <td>1717</td>\n",
       "      <td>642</td>\n",
       "      <td>756</td>\n",
       "      <td>0</td>\n",
       "      <td>0</td>\n",
       "      <td>0</td>\n",
       "    </tr>\n",
       "    <tr>\n",
       "      <th>4</th>\n",
       "      <td>8</td>\n",
       "      <td>2198</td>\n",
       "      <td>836</td>\n",
       "      <td>1145</td>\n",
       "      <td>1</td>\n",
       "      <td>1</td>\n",
       "      <td>1</td>\n",
       "    </tr>\n",
       "  </tbody>\n",
       "</table>\n",
       "</div>"
      ],
      "text/plain": [
       "   overallqual  grlivarea  garagearea  totalbsmtsf  more1_fullbath  \\\n",
       "0            7       1710         548          856               1   \n",
       "1            6       1262         460         1262               1   \n",
       "2            7       1786         608          920               1   \n",
       "3            7       1717         642          756               0   \n",
       "4            8       2198         836         1145               1   \n",
       "\n",
       "   yearbuilt_after1960  yearremodadd_after1990  \n",
       "0                    1                       1  \n",
       "1                    1                       0  \n",
       "2                    1                       1  \n",
       "3                    0                       0  \n",
       "4                    1                       1  "
      ]
     },
     "execution_count": 26,
     "metadata": {},
     "output_type": "execute_result"
    }
   ],
   "source": [
    "features['yearremodadd'] = yearremodadd_after1990.replace(True, 'yearremodadd_after1990').replace(False, 'after1990')\n",
    "features = pd.concat([features, pd.get_dummies(features['yearremodadd'])],axis=1)\n",
    "features = features.drop('yearremodadd', axis=1).drop('after1990', axis=1)\n",
    "features.head()"
   ]
  },
  {
   "cell_type": "markdown",
   "metadata": {},
   "source": [
    "To even out the weight among the variables, we'll use sqrt to transform continous variables that measure area."
   ]
  },
  {
   "cell_type": "code",
   "execution_count": 27,
   "metadata": {},
   "outputs": [
    {
     "data": {
      "text/html": [
       "<div>\n",
       "<style scoped>\n",
       "    .dataframe tbody tr th:only-of-type {\n",
       "        vertical-align: middle;\n",
       "    }\n",
       "\n",
       "    .dataframe tbody tr th {\n",
       "        vertical-align: top;\n",
       "    }\n",
       "\n",
       "    .dataframe thead th {\n",
       "        text-align: right;\n",
       "    }\n",
       "</style>\n",
       "<table border=\"1\" class=\"dataframe\">\n",
       "  <thead>\n",
       "    <tr style=\"text-align: right;\">\n",
       "      <th></th>\n",
       "      <th>overallqual</th>\n",
       "      <th>grlivarea</th>\n",
       "      <th>garagearea</th>\n",
       "      <th>totalbsmtsf</th>\n",
       "      <th>more1_fullbath</th>\n",
       "      <th>yearbuilt_after1960</th>\n",
       "      <th>yearremodadd_after1990</th>\n",
       "    </tr>\n",
       "  </thead>\n",
       "  <tbody>\n",
       "    <tr>\n",
       "      <th>0</th>\n",
       "      <td>7</td>\n",
       "      <td>41.352</td>\n",
       "      <td>23.409</td>\n",
       "      <td>29.257</td>\n",
       "      <td>1</td>\n",
       "      <td>1</td>\n",
       "      <td>1</td>\n",
       "    </tr>\n",
       "    <tr>\n",
       "      <th>1</th>\n",
       "      <td>6</td>\n",
       "      <td>35.525</td>\n",
       "      <td>21.448</td>\n",
       "      <td>35.525</td>\n",
       "      <td>1</td>\n",
       "      <td>1</td>\n",
       "      <td>0</td>\n",
       "    </tr>\n",
       "    <tr>\n",
       "      <th>2</th>\n",
       "      <td>7</td>\n",
       "      <td>42.261</td>\n",
       "      <td>24.658</td>\n",
       "      <td>30.332</td>\n",
       "      <td>1</td>\n",
       "      <td>1</td>\n",
       "      <td>1</td>\n",
       "    </tr>\n",
       "    <tr>\n",
       "      <th>3</th>\n",
       "      <td>7</td>\n",
       "      <td>41.437</td>\n",
       "      <td>25.338</td>\n",
       "      <td>27.495</td>\n",
       "      <td>0</td>\n",
       "      <td>0</td>\n",
       "      <td>0</td>\n",
       "    </tr>\n",
       "    <tr>\n",
       "      <th>4</th>\n",
       "      <td>8</td>\n",
       "      <td>46.883</td>\n",
       "      <td>28.914</td>\n",
       "      <td>33.838</td>\n",
       "      <td>1</td>\n",
       "      <td>1</td>\n",
       "      <td>1</td>\n",
       "    </tr>\n",
       "  </tbody>\n",
       "</table>\n",
       "</div>"
      ],
      "text/plain": [
       "   overallqual  grlivarea  garagearea  totalbsmtsf  more1_fullbath  \\\n",
       "0            7     41.352      23.409       29.257               1   \n",
       "1            6     35.525      21.448       35.525               1   \n",
       "2            7     42.261      24.658       30.332               1   \n",
       "3            7     41.437      25.338       27.495               0   \n",
       "4            8     46.883      28.914       33.838               1   \n",
       "\n",
       "   yearbuilt_after1960  yearremodadd_after1990  \n",
       "0                    1                       1  \n",
       "1                    1                       0  \n",
       "2                    1                       1  \n",
       "3                    0                       0  \n",
       "4                    1                       1  "
      ]
     },
     "execution_count": 27,
     "metadata": {},
     "output_type": "execute_result"
    }
   ],
   "source": [
    "features['grlivarea'] = np.sqrt(features['grlivarea'])\n",
    "features['garagearea'] = np.sqrt(features['garagearea'])\n",
    "features['totalbsmtsf'] = np.sqrt(features['totalbsmtsf'])\n",
    "features.head()"
   ]
  },
  {
   "cell_type": "code",
   "execution_count": 28,
   "metadata": {},
   "outputs": [
    {
     "data": {
      "text/plain": [
       "<matplotlib.axes._subplots.AxesSubplot at 0x123fd9080>"
      ]
     },
     "execution_count": 28,
     "metadata": {},
     "output_type": "execute_result"
    },
    {
     "data": {
      "image/png": "[encoded data removed]",
      "text/plain": [
       "<Figure size 720x720 with 2 Axes>"
      ]
     },
     "metadata": {
      "needs_background": "light"
     },
     "output_type": "display_data"
    }
   ],
   "source": [
    "# Review correlation of the features:\n",
    "plt.figure(figsize=(10,10))\n",
    "features_corr = features.corr()\n",
    "sns.heatmap(features_corr, annot=True, square=True)"
   ]
  },
  {
   "cell_type": "markdown",
   "metadata": {},
   "source": [
    "Selected features:\n",
    "\n",
    "- overallqual - Overall material and finish quality\n",
    "- grlivarea - Above grade (ground) living area square feet\n",
    "- garagearea - Size of garage in square feet\n",
    "- totalbsmtsf - Total square feet of basement area\n",
    "- more1_fullbath - More than one full bathrooms above grade (may be dropped later)\n",
    "- yearbuilt_after1960 - Original construction date is after 1960\n",
    "- yearremodadd_after1990 - Remodel date is after 1990"
   ]
  },
  {
   "cell_type": "code",
   "execution_count": 29,
   "metadata": {},
   "outputs": [
    {
     "data": {
      "text/plain": [
       "Text(0.5, 1.0, 'Box plot of totalbsmtsf (whis=5)')"
      ]
     },
     "execution_count": 29,
     "metadata": {},
     "output_type": "execute_result"
    },
    {
     "data": {
      "image/png": "[encoded data removed]",
      "text/plain": [
       "<Figure size 1080x720 with 4 Axes>"
      ]
     },
     "metadata": {
      "needs_background": "light"
     },
     "output_type": "display_data"
    }
   ],
   "source": [
    "# plot features to review outliers:\n",
    "plt.figure(figsize = (15,10))\n",
    "\n",
    "plt.subplot(2,2,1)\n",
    "plt.boxplot(features['overallqual'], whis=1.5)\n",
    "plt.title('Box plot of overallqual (whis=1.5)')\n",
    "\n",
    "plt.subplot(2,2,2)\n",
    "plt.boxplot(features['grlivarea'], whis=5)\n",
    "plt.title('Box plot of grlivarea (whis=5)')\n",
    "\n",
    "plt.subplot(2,2,3)\n",
    "plt.boxplot(features['garagearea'], whis=1.5)\n",
    "plt.title('Box plot of garagearea (whis=1.5)')\n",
    "\n",
    "plt.subplot(2,2,4)\n",
    "plt.boxplot(features['totalbsmtsf'], whis=5)\n",
    "plt.title('Box plot of totalbsmtsf (whis=5)')"
   ]
  },
  {
   "cell_type": "code",
   "execution_count": 30,
   "metadata": {},
   "outputs": [],
   "source": [
    "# winsorize a few variables to address outliers:\n",
    "overallqual_w = winsorize(features['overallqual'], (0.01, 0))\n",
    "garagearea_w = winsorize(features['garagearea'], (0, 0.05))\n",
    "totalbsmtsf_w = winsorize(features['totalbsmtsf'], (0, 0.001))"
   ]
  },
  {
   "cell_type": "code",
   "execution_count": 31,
   "metadata": {},
   "outputs": [
    {
     "data": {
      "text/plain": [
       "Text(0.5, 1.0, 'Box plot of totalbsmtsf_w (whis=5)')"
      ]
     },
     "execution_count": 31,
     "metadata": {},
     "output_type": "execute_result"
    },
    {
     "data": {
      "image/png": "[encoded data removed]",
      "text/plain": [
       "<Figure size 1080x360 with 3 Axes>"
      ]
     },
     "metadata": {
      "needs_background": "light"
     },
     "output_type": "display_data"
    }
   ],
   "source": [
    "# review features after winsorization:\n",
    "plt.figure(figsize = (15,5))\n",
    "\n",
    "plt.subplot(1,3,1)\n",
    "plt.boxplot(overallqual_w, whis=1.5)\n",
    "plt.title('Box plot of overallqual_w (whis=1.5)')\n",
    "\n",
    "plt.subplot(1,3,2)\n",
    "plt.boxplot(garagearea_w, whis=5)\n",
    "plt.title('Box plot of garagearea_w (whis=5)')\n",
    "\n",
    "plt.subplot(1,3,3)\n",
    "plt.boxplot(totalbsmtsf_w, whis=5)\n",
    "plt.title('Box plot of totalbsmtsf_w (whis=5)')"
   ]
  },
  {
   "cell_type": "code",
   "execution_count": 32,
   "metadata": {},
   "outputs": [
    {
     "data": {
      "image/png": "[encoded data removed]",
      "text/plain": [
       "<Figure size 1080x720 with 4 Axes>"
      ]
     },
     "metadata": {
      "needs_background": "light"
     },
     "output_type": "display_data"
    }
   ],
   "source": [
    "# review distribution: \n",
    "plt.figure(figsize=(15,10))\n",
    "\n",
    "plt.subplot(3, 2, 1)\n",
    "plt.hist(overallqual_w)\n",
    "plt.title('histogram of overallqual_w')\n",
    "\n",
    "plt.subplot(3, 2, 2)\n",
    "plt.hist(features['grlivarea'])\n",
    "plt.title('histogram of grlivarea')\n",
    "\n",
    "plt.subplot(3, 2, 3)\n",
    "plt.hist(garagearea_w)\n",
    "plt.title('histogram of garagearea_w')\n",
    "\n",
    "plt.subplot(3, 2, 4)\n",
    "plt.hist(totalbsmtsf_w)\n",
    "plt.title('histogram of totalbsmtsf_w')\n",
    "\n",
    "plt.show()"
   ]
  },
  {
   "cell_type": "markdown",
   "metadata": {},
   "source": [
    "garagearea_w and totalbsmtsf_w have some zero values because some houses don't have garages or basements."
   ]
  },
  {
   "cell_type": "code",
   "execution_count": 33,
   "metadata": {},
   "outputs": [
    {
     "data": {
      "text/html": [
       "<div>\n",
       "<style scoped>\n",
       "    .dataframe tbody tr th:only-of-type {\n",
       "        vertical-align: middle;\n",
       "    }\n",
       "\n",
       "    .dataframe tbody tr th {\n",
       "        vertical-align: top;\n",
       "    }\n",
       "\n",
       "    .dataframe thead th {\n",
       "        text-align: right;\n",
       "    }\n",
       "</style>\n",
       "<table border=\"1\" class=\"dataframe\">\n",
       "  <thead>\n",
       "    <tr style=\"text-align: right;\">\n",
       "      <th></th>\n",
       "      <th>overallqual</th>\n",
       "      <th>grlivarea</th>\n",
       "      <th>garagearea</th>\n",
       "      <th>totalbsmtsf</th>\n",
       "      <th>more1_fullbath</th>\n",
       "      <th>yearbuilt_after1960</th>\n",
       "      <th>yearremodadd_after1990</th>\n",
       "      <th>saleprice</th>\n",
       "    </tr>\n",
       "  </thead>\n",
       "  <tbody>\n",
       "    <tr>\n",
       "      <th>0</th>\n",
       "      <td>7</td>\n",
       "      <td>41.352</td>\n",
       "      <td>23.409</td>\n",
       "      <td>29.257</td>\n",
       "      <td>1</td>\n",
       "      <td>1</td>\n",
       "      <td>1</td>\n",
       "      <td>12.248</td>\n",
       "    </tr>\n",
       "    <tr>\n",
       "      <th>1</th>\n",
       "      <td>6</td>\n",
       "      <td>35.525</td>\n",
       "      <td>21.448</td>\n",
       "      <td>35.525</td>\n",
       "      <td>1</td>\n",
       "      <td>1</td>\n",
       "      <td>0</td>\n",
       "      <td>12.109</td>\n",
       "    </tr>\n",
       "    <tr>\n",
       "      <th>2</th>\n",
       "      <td>7</td>\n",
       "      <td>42.261</td>\n",
       "      <td>24.658</td>\n",
       "      <td>30.332</td>\n",
       "      <td>1</td>\n",
       "      <td>1</td>\n",
       "      <td>1</td>\n",
       "      <td>12.317</td>\n",
       "    </tr>\n",
       "    <tr>\n",
       "      <th>3</th>\n",
       "      <td>7</td>\n",
       "      <td>41.437</td>\n",
       "      <td>25.338</td>\n",
       "      <td>27.495</td>\n",
       "      <td>0</td>\n",
       "      <td>0</td>\n",
       "      <td>0</td>\n",
       "      <td>11.849</td>\n",
       "    </tr>\n",
       "    <tr>\n",
       "      <th>4</th>\n",
       "      <td>8</td>\n",
       "      <td>46.883</td>\n",
       "      <td>28.914</td>\n",
       "      <td>33.838</td>\n",
       "      <td>1</td>\n",
       "      <td>1</td>\n",
       "      <td>1</td>\n",
       "      <td>12.429</td>\n",
       "    </tr>\n",
       "  </tbody>\n",
       "</table>\n",
       "</div>"
      ],
      "text/plain": [
       "   overallqual  grlivarea  garagearea  totalbsmtsf  more1_fullbath  \\\n",
       "0            7     41.352      23.409       29.257               1   \n",
       "1            6     35.525      21.448       35.525               1   \n",
       "2            7     42.261      24.658       30.332               1   \n",
       "3            7     41.437      25.338       27.495               0   \n",
       "4            8     46.883      28.914       33.838               1   \n",
       "\n",
       "   yearbuilt_after1960  yearremodadd_after1990  saleprice  \n",
       "0                    1                       1     12.248  \n",
       "1                    1                       0     12.109  \n",
       "2                    1                       1     12.317  \n",
       "3                    0                       0     11.849  \n",
       "4                    1                       1     12.429  "
      ]
     },
     "execution_count": 33,
     "metadata": {},
     "output_type": "execute_result"
    }
   ],
   "source": [
    "# create dataframe for the model that includes the target variable and features:\n",
    "norm_df = features.copy()\n",
    "norm_df['saleprice'] = hp_df['saleprice']\n",
    "norm_df.head()"
   ]
  },
  {
   "cell_type": "code",
   "execution_count": 34,
   "metadata": {},
   "outputs": [
    {
     "data": {
      "text/html": [
       "<div>\n",
       "<style scoped>\n",
       "    .dataframe tbody tr th:only-of-type {\n",
       "        vertical-align: middle;\n",
       "    }\n",
       "\n",
       "    .dataframe tbody tr th {\n",
       "        vertical-align: top;\n",
       "    }\n",
       "\n",
       "    .dataframe thead th {\n",
       "        text-align: right;\n",
       "    }\n",
       "</style>\n",
       "<table border=\"1\" class=\"dataframe\">\n",
       "  <thead>\n",
       "    <tr style=\"text-align: right;\">\n",
       "      <th></th>\n",
       "      <th>overallqual</th>\n",
       "      <th>grlivarea</th>\n",
       "      <th>garagearea</th>\n",
       "      <th>totalbsmtsf</th>\n",
       "      <th>more1_fullbath</th>\n",
       "      <th>yearbuilt_after1960</th>\n",
       "      <th>yearremodadd_after1990</th>\n",
       "      <th>saleprice</th>\n",
       "    </tr>\n",
       "  </thead>\n",
       "  <tbody>\n",
       "    <tr>\n",
       "      <th>0</th>\n",
       "      <td>0.651</td>\n",
       "      <td>0.459</td>\n",
       "      <td>0.410</td>\n",
       "      <td>-0.304</td>\n",
       "      <td>1</td>\n",
       "      <td>1</td>\n",
       "      <td>1</td>\n",
       "      <td>12.248</td>\n",
       "    </tr>\n",
       "    <tr>\n",
       "      <th>1</th>\n",
       "      <td>-0.072</td>\n",
       "      <td>-0.444</td>\n",
       "      <td>0.104</td>\n",
       "      <td>0.511</td>\n",
       "      <td>1</td>\n",
       "      <td>1</td>\n",
       "      <td>0</td>\n",
       "      <td>12.109</td>\n",
       "    </tr>\n",
       "    <tr>\n",
       "      <th>2</th>\n",
       "      <td>0.651</td>\n",
       "      <td>0.600</td>\n",
       "      <td>0.604</td>\n",
       "      <td>-0.164</td>\n",
       "      <td>1</td>\n",
       "      <td>1</td>\n",
       "      <td>1</td>\n",
       "      <td>12.317</td>\n",
       "    </tr>\n",
       "    <tr>\n",
       "      <th>3</th>\n",
       "      <td>0.651</td>\n",
       "      <td>0.472</td>\n",
       "      <td>0.710</td>\n",
       "      <td>-0.532</td>\n",
       "      <td>0</td>\n",
       "      <td>0</td>\n",
       "      <td>0</td>\n",
       "      <td>11.849</td>\n",
       "    </tr>\n",
       "    <tr>\n",
       "      <th>4</th>\n",
       "      <td>1.375</td>\n",
       "      <td>1.315</td>\n",
       "      <td>1.268</td>\n",
       "      <td>0.292</td>\n",
       "      <td>1</td>\n",
       "      <td>1</td>\n",
       "      <td>1</td>\n",
       "      <td>12.429</td>\n",
       "    </tr>\n",
       "  </tbody>\n",
       "</table>\n",
       "</div>"
      ],
      "text/plain": [
       "   overallqual  grlivarea  garagearea  totalbsmtsf  more1_fullbath  \\\n",
       "0        0.651      0.459       0.410       -0.304               1   \n",
       "1       -0.072     -0.444       0.104        0.511               1   \n",
       "2        0.651      0.600       0.604       -0.164               1   \n",
       "3        0.651      0.472       0.710       -0.532               0   \n",
       "4        1.375      1.315       1.268        0.292               1   \n",
       "\n",
       "   yearbuilt_after1960  yearremodadd_after1990  saleprice  \n",
       "0                    1                       1     12.248  \n",
       "1                    1                       0     12.109  \n",
       "2                    1                       1     12.317  \n",
       "3                    0                       0     11.849  \n",
       "4                    1                       1     12.429  "
      ]
     },
     "execution_count": 34,
     "metadata": {},
     "output_type": "execute_result"
    }
   ],
   "source": [
    "# standartize features:\n",
    "norm_df['overallqual'] = scale(norm_df['overallqual'])\n",
    "norm_df['grlivarea'] = scale(norm_df['grlivarea'])\n",
    "norm_df['garagearea'] = scale(norm_df['garagearea'])\n",
    "norm_df['totalbsmtsf'] = scale(norm_df['totalbsmtsf'])\n",
    "\n",
    "norm_df.head()"
   ]
  },
  {
   "cell_type": "code",
   "execution_count": 35,
   "metadata": {},
   "outputs": [],
   "source": [
    "# Y is the target variable\n",
    "Y = norm_df['saleprice']\n",
    "\n",
    "# X is the feature set\n",
    "X = norm_df[['overallqual','grlivarea', 'garagearea', 'totalbsmtsf',\n",
    "             'more1_fullbath', 'yearbuilt_after1960', 'yearremodadd_after1990']]"
   ]
  },
  {
   "cell_type": "markdown",
   "metadata": {},
   "source": [
    "### Split Data into Train and Test Sets"
   ]
  },
  {
   "cell_type": "code",
   "execution_count": 36,
   "metadata": {},
   "outputs": [
    {
     "name": "stdout",
     "output_type": "stream",
     "text": [
      "The number of observations in training set is 1168\n",
      "The number of observations in test set is 292\n"
     ]
    }
   ],
   "source": [
    "# split data into train and test sets:\n",
    "X_train, X_test, y_train, y_test = train_test_split(X, Y, test_size = 0.2, random_state = 465)\n",
    "\n",
    "print(\"The number of observations in training set is {}\".format(X_train.shape[0]))\n",
    "print(\"The number of observations in test set is {}\".format(X_test.shape[0]))"
   ]
  },
  {
   "cell_type": "markdown",
   "metadata": {},
   "source": [
    "### Linear Regression"
   ]
  },
  {
   "cell_type": "code",
   "execution_count": 37,
   "metadata": {},
   "outputs": [
    {
     "name": "stdout",
     "output_type": "stream",
     "text": [
      "\n",
      "Coefficients: \n",
      " [0.13503382 0.12138053 0.05990645 0.05909351 0.0057665  0.0759023\n",
      " 0.10343596]\n",
      "\n",
      "Intercept: \n",
      " 11.913332684751465\n"
     ]
    }
   ],
   "source": [
    "# create a LinearRegression model object from scikit-learn\n",
    "lrm = LinearRegression()\n",
    "lrm.fit(X_train, y_train)\n",
    "\n",
    "# Inspect the results.\n",
    "print('\\nCoefficients: \\n', lrm.coef_)\n",
    "print('\\nIntercept: \\n', lrm.intercept_)"
   ]
  },
  {
   "cell_type": "markdown",
   "metadata": {},
   "source": [
    "The estimated model is:\n",
    "\n",
    "    saleprice = 11.913332684751465 + 0.13503382overallqual + 0.12138053grlivarea\n",
    "        + 0.05990645garagearea + 0.05909351totalbsmtsf + 0.0057665more1_fullbath\n",
    "        + 0.0759023yearbuilt_after1960 + 0.10343596yearremodadd_after1990"
   ]
  },
  {
   "cell_type": "code",
   "execution_count": 38,
   "metadata": {
    "scrolled": true
   },
   "outputs": [
    {
     "name": "stdout",
     "output_type": "stream",
     "text": [
      "                            OLS Regression Results                            \n",
      "==============================================================================\n",
      "Dep. Variable:              saleprice   R-squared:                       0.814\n",
      "Model:                            OLS   Adj. R-squared:                  0.813\n",
      "Method:                 Least Squares   F-statistic:                     726.4\n",
      "Date:                Wed, 21 Aug 2019   Prob (F-statistic):               0.00\n",
      "Time:                        22:30:43   Log-Likelihood:                 451.86\n",
      "No. Observations:                1168   AIC:                            -887.7\n",
      "Df Residuals:                    1160   BIC:                            -847.2\n",
      "Df Model:                           7                                         \n",
      "Covariance Type:            nonrobust                                         \n",
      "==========================================================================================\n",
      "                             coef    std err          t      P>|t|      [0.025      0.975]\n",
      "------------------------------------------------------------------------------------------\n",
      "const                     11.9133      0.011   1065.038      0.000      11.891      11.935\n",
      "overallqual                0.1350      0.008     17.149      0.000       0.120       0.150\n",
      "grlivarea                  0.1214      0.007     16.958      0.000       0.107       0.135\n",
      "garagearea                 0.0599      0.006     10.168      0.000       0.048       0.071\n",
      "totalbsmtsf                0.0591      0.006     10.461      0.000       0.048       0.070\n",
      "more1_fullbath             0.0058      0.014      0.417      0.677      -0.021       0.033\n",
      "yearbuilt_after1960        0.0759      0.013      5.991      0.000       0.051       0.101\n",
      "yearremodadd_after1990     0.1034      0.011      9.058      0.000       0.081       0.126\n",
      "==============================================================================\n",
      "Omnibus:                      546.175   Durbin-Watson:                   1.889\n",
      "Prob(Omnibus):                  0.000   Jarque-Bera (JB):             9064.850\n",
      "Skew:                          -1.731   Prob(JB):                         0.00\n",
      "Kurtosis:                      16.201   Cond. No.                         5.69\n",
      "==============================================================================\n",
      "\n",
      "Warnings:\n",
      "[1] Standard Errors assume that the covariance matrix of the errors is correctly specified.\n"
     ]
    }
   ],
   "source": [
    "# OLS gives us a nice summary results:\n",
    "X_train = sm.add_constant(X_train)\n",
    "results = sm.OLS(y_train, X_train).fit()\n",
    "print(results.summary())"
   ]
  },
  {
   "cell_type": "markdown",
   "metadata": {},
   "source": [
    "Estimated coefficients are similar to the one estimated by scikit-learn's model. \n",
    "\n",
    "According to adjusted R-Squared, 81.3% of variance in the target variable is explained by our model. AIC and BIC are low p-value of F-statistic is < 0.05, which means our model is useful in explaining saleprice. Out of all of the coefficients, more1_fullbath has a p-value of more than 0.05, which means there appears to be no relationship between saleprice and whether or not there were more than one full bathrooms in a house; we'll exclude it from our further analysis.\n",
    "\n",
    "\n",
    "**Summary review of some linear regression assumptions:**\n",
    "\n",
    "- Prob(Omnibus) shows the residuals are not normally distributed (should be 1).\n",
    "- Skew is negative - data is asymmetric (should be close to 0).\n",
    "- Kurtosis shows tight clustering of residuals around zero.\n",
    "- Durbin-Watson shows homoscedasticity (should be between 1 and 2).\n",
    "- Jarque-Bera should confirm Omnibus test.\n",
    "- Cond. Number is ok, meaning there is no high multicollinearity.\n",
    "\n",
    "Let's exclude **more1_fullbath** and re-estimate the model:"
   ]
  },
  {
   "cell_type": "code",
   "execution_count": 39,
   "metadata": {},
   "outputs": [
    {
     "name": "stdout",
     "output_type": "stream",
     "text": [
      "The number of observations in training set is 1168\n",
      "The number of observations in test set is 292\n"
     ]
    }
   ],
   "source": [
    "# Y is the target variable\n",
    "Y = norm_df['saleprice']\n",
    "# X is the feature set\n",
    "X = norm_df[['overallqual','grlivarea', 'garagearea', 'totalbsmtsf',\n",
    "            'yearbuilt_after1960', 'yearremodadd_after1990']]\n",
    "\n",
    "# split data into train and test sets:\n",
    "X_train, X_test, y_train, y_test = train_test_split(X, Y, test_size = 0.2, random_state = 465)\n",
    "print(\"The number of observations in training set is {}\".format(X_train.shape[0]))\n",
    "print(\"The number of observations in test set is {}\".format(X_test.shape[0]))"
   ]
  },
  {
   "cell_type": "code",
   "execution_count": 40,
   "metadata": {},
   "outputs": [
    {
     "name": "stdout",
     "output_type": "stream",
     "text": [
      "\n",
      "Coefficients: \n",
      " [0.13531618 0.12281668 0.05983581 0.05880047 0.07774852 0.10428264]\n",
      "\n",
      "Intercept: \n",
      " 11.914810030496906\n"
     ]
    }
   ],
   "source": [
    "# create a LinearRegression model object from scikit-learn\n",
    "lrm = LinearRegression()\n",
    "# estimate coefficients using OLS\n",
    "lrm.fit(X_train, y_train)\n",
    "# Inspect the results.\n",
    "print('\\nCoefficients: \\n', lrm.coef_)\n",
    "print('\\nIntercept: \\n', lrm.intercept_)"
   ]
  },
  {
   "cell_type": "markdown",
   "metadata": {},
   "source": [
    "### Evaluate Model on Test Set"
   ]
  },
  {
   "cell_type": "code",
   "execution_count": 41,
   "metadata": {},
   "outputs": [
    {
     "data": {
      "image/png": "[encoded data removed]",
      "text/plain": [
       "<Figure size 432x288 with 1 Axes>"
      ]
     },
     "metadata": {
      "needs_background": "light"
     },
     "output_type": "display_data"
    },
    {
     "name": "stdout",
     "output_type": "stream",
     "text": [
      "Score of the model in the training set is: 0.8142196490937887\n",
      "Test set statistics:\n",
      "Score of the model in the test set is: 0.8462315228940404\n",
      "Mean squared error of the prediction is: 0.02301813153626437\n"
     ]
    }
   ],
   "source": [
    "# Evaluate model on the test set:\n",
    "y_preds = lrm.predict(X_test)\n",
    "\n",
    "plt.scatter(y_test, y_preds)\n",
    "plt.plot(y_test, y_test, color=\"red\")\n",
    "plt.xlabel('true values')\n",
    "plt.ylabel('predicted values')\n",
    "plt.title('Saleprice: true and predicted values')\n",
    "plt.show()\n",
    "\n",
    "print('Score of the model in the training set is: {}'.format(lrm.score(X_train, y_train)))\n",
    "print('Test set statistics:')\n",
    "print('Score of the model in the test set is: {}'.format(lrm.score(X_test, y_test)))\n",
    "print('Mean squared error of the prediction is: {}'.format(mse(y_test, y_preds)))"
   ]
  },
  {
   "cell_type": "code",
   "execution_count": 42,
   "metadata": {},
   "outputs": [
    {
     "data": {
      "text/plain": [
       "array([0.83483336, 0.82268087, 0.83650365, 0.84062154, 0.75068891])"
      ]
     },
     "execution_count": 42,
     "metadata": {},
     "output_type": "execute_result"
    }
   ],
   "source": [
    "# use k-fold cross-validation to review the output of the model:\n",
    "cross_val_score(lrm, X, Y, cv=5)"
   ]
  },
  {
   "cell_type": "markdown",
   "metadata": {},
   "source": [
    "MSE is 0.023018131536264336, which is pretty close to zero. \n",
    "\n",
    "Our linear regression model does better on the test set than on train set (85% vs. 81%). This may be due to test set having easier data points.\n",
    "\n",
    "5-folds cross validation shows around 10 point difference.\n",
    "\n",
    "Overall, there seems to be no underfitting or overfitting.\n",
    "\n",
    "Given that our model generalizes well, we don't need to apply additional regression techniques such as Ridge, LASSO or ElasticNet regression. Below is an example of ElasticNet regression, the output of which is very similar to that of Linear our Regression model."
   ]
  },
  {
   "cell_type": "code",
   "execution_count": 43,
   "metadata": {},
   "outputs": [
    {
     "name": "stdout",
     "output_type": "stream",
     "text": [
      "R-squared of the model on the training set is: 0.8127350908467416\n",
      "Test set statistics:\n",
      "R-squared of the model on the test set is: 0.8416222761038783\n",
      "Mean squared error of the prediction is: 0.023708105521153\n"
     ]
    }
   ],
   "source": [
    "# ElasticNet regression:\n",
    "elasticregr = ElasticNet(alpha=0.01, l1_ratio=0.5) \n",
    "elasticregr.fit(X_train, y_train)\n",
    "\n",
    "y_preds_train = elasticregr.predict(X_train)\n",
    "y_preds_test = elasticregr.predict(X_test)\n",
    "\n",
    "print('R-squared of the model on the training set is: {}'.format(elasticregr.score(X_train, y_train)))\n",
    "print('Test set statistics:')\n",
    "print('R-squared of the model on the test set is: {}'.format(elasticregr.score(X_test, y_test)))\n",
    "print('Mean squared error of the prediction is: {}'.format(mse(y_test, y_preds_test)))"
   ]
  },
  {
   "cell_type": "markdown",
   "metadata": {},
   "source": [
    "# Pat II - Model with Additional Factors"
   ]
  },
  {
   "cell_type": "markdown",
   "metadata": {},
   "source": [
    "We'll add a few economic indicators to our dataset and see how our linera regression model's performance changes."
   ]
  },
  {
   "cell_type": "code",
   "execution_count": 44,
   "metadata": {},
   "outputs": [
    {
     "data": {
      "text/html": [
       "<div>\n",
       "<style scoped>\n",
       "    .dataframe tbody tr th:only-of-type {\n",
       "        vertical-align: middle;\n",
       "    }\n",
       "\n",
       "    .dataframe tbody tr th {\n",
       "        vertical-align: top;\n",
       "    }\n",
       "\n",
       "    .dataframe thead th {\n",
       "        text-align: right;\n",
       "    }\n",
       "</style>\n",
       "<table border=\"1\" class=\"dataframe\">\n",
       "  <thead>\n",
       "    <tr style=\"text-align: right;\">\n",
       "      <th></th>\n",
       "      <th>overallqual</th>\n",
       "      <th>grlivarea</th>\n",
       "      <th>garagearea</th>\n",
       "      <th>totalbsmtsf</th>\n",
       "      <th>more1_fullbath</th>\n",
       "      <th>yearbuilt_after1960</th>\n",
       "      <th>yearremodadd_after1990</th>\n",
       "      <th>saleprice</th>\n",
       "      <th>yrsold</th>\n",
       "      <th>mosold</th>\n",
       "    </tr>\n",
       "  </thead>\n",
       "  <tbody>\n",
       "    <tr>\n",
       "      <th>0</th>\n",
       "      <td>0.651</td>\n",
       "      <td>0.459</td>\n",
       "      <td>0.410</td>\n",
       "      <td>-0.304</td>\n",
       "      <td>1</td>\n",
       "      <td>1</td>\n",
       "      <td>1</td>\n",
       "      <td>12.248</td>\n",
       "      <td>2008</td>\n",
       "      <td>2</td>\n",
       "    </tr>\n",
       "    <tr>\n",
       "      <th>1</th>\n",
       "      <td>-0.072</td>\n",
       "      <td>-0.444</td>\n",
       "      <td>0.104</td>\n",
       "      <td>0.511</td>\n",
       "      <td>1</td>\n",
       "      <td>1</td>\n",
       "      <td>0</td>\n",
       "      <td>12.109</td>\n",
       "      <td>2007</td>\n",
       "      <td>5</td>\n",
       "    </tr>\n",
       "    <tr>\n",
       "      <th>2</th>\n",
       "      <td>0.651</td>\n",
       "      <td>0.600</td>\n",
       "      <td>0.604</td>\n",
       "      <td>-0.164</td>\n",
       "      <td>1</td>\n",
       "      <td>1</td>\n",
       "      <td>1</td>\n",
       "      <td>12.317</td>\n",
       "      <td>2008</td>\n",
       "      <td>9</td>\n",
       "    </tr>\n",
       "    <tr>\n",
       "      <th>3</th>\n",
       "      <td>0.651</td>\n",
       "      <td>0.472</td>\n",
       "      <td>0.710</td>\n",
       "      <td>-0.532</td>\n",
       "      <td>0</td>\n",
       "      <td>0</td>\n",
       "      <td>0</td>\n",
       "      <td>11.849</td>\n",
       "      <td>2006</td>\n",
       "      <td>2</td>\n",
       "    </tr>\n",
       "    <tr>\n",
       "      <th>4</th>\n",
       "      <td>1.375</td>\n",
       "      <td>1.315</td>\n",
       "      <td>1.268</td>\n",
       "      <td>0.292</td>\n",
       "      <td>1</td>\n",
       "      <td>1</td>\n",
       "      <td>1</td>\n",
       "      <td>12.429</td>\n",
       "      <td>2008</td>\n",
       "      <td>12</td>\n",
       "    </tr>\n",
       "  </tbody>\n",
       "</table>\n",
       "</div>"
      ],
      "text/plain": [
       "   overallqual  grlivarea  garagearea  totalbsmtsf  more1_fullbath  \\\n",
       "0        0.651      0.459       0.410       -0.304               1   \n",
       "1       -0.072     -0.444       0.104        0.511               1   \n",
       "2        0.651      0.600       0.604       -0.164               1   \n",
       "3        0.651      0.472       0.710       -0.532               0   \n",
       "4        1.375      1.315       1.268        0.292               1   \n",
       "\n",
       "   yearbuilt_after1960  yearremodadd_after1990  saleprice  yrsold  mosold  \n",
       "0                    1                       1     12.248    2008       2  \n",
       "1                    1                       0     12.109    2007       5  \n",
       "2                    1                       1     12.317    2008       9  \n",
       "3                    0                       0     11.849    2006       2  \n",
       "4                    1                       1     12.429    2008      12  "
      ]
     },
     "execution_count": 44,
     "metadata": {},
     "output_type": "execute_result"
    }
   ],
   "source": [
    "# Create new dataframe with data on date of sale\n",
    "new_df = norm_df.copy()\n",
    "new_df['yrsold'] = hp_df['yrsold']\n",
    "new_df['mosold'] = hp_df['mosold']\n",
    "new_df.head()"
   ]
  },
  {
   "cell_type": "code",
   "execution_count": 45,
   "metadata": {},
   "outputs": [
    {
     "data": {
      "text/plain": [
       "array([2008, 2007, 2006, 2009, 2010])"
      ]
     },
     "execution_count": 45,
     "metadata": {},
     "output_type": "execute_result"
    }
   ],
   "source": [
    "# check the dates for house sales in the dataset:\n",
    "years = new_df['yrsold'].unique()\n",
    "years"
   ]
  },
  {
   "cell_type": "markdown",
   "metadata": {},
   "source": [
    "We'll add the following data for years 2006 to 2010:\n",
    "\n",
    "Federal 30-Year Fixed-Rate Mortgage rates (http://www.freddiemac.com/pmms/pmms30.html):\n",
    "- 2006-6.41, 2007-6.34, 2008-6.03, 2009-5.04, 2010-4.69\n",
    "\n",
    "\n",
    "Iowa economic indicators (https://www.legis.iowa.gov/publications/fiscal/economicTrends):\n",
    "- population: 2006-2,982,644; 2007-2,999,212; 2008-3,016,734; 2009-3,032,870; 2010-3,050,767 \n",
    "- personal income summary: 2006-104274.9; 2007-112285.4; 2008-115292; 2009-114080.9; 2010-118496\n",
    "- total housing units: 2006-12837; 2007-10733; 2008-7696; 2009-6957; 2010-7507"
   ]
  },
  {
   "cell_type": "code",
   "execution_count": 46,
   "metadata": {},
   "outputs": [
    {
     "data": {
      "text/html": [
       "<div>\n",
       "<style scoped>\n",
       "    .dataframe tbody tr th:only-of-type {\n",
       "        vertical-align: middle;\n",
       "    }\n",
       "\n",
       "    .dataframe tbody tr th {\n",
       "        vertical-align: top;\n",
       "    }\n",
       "\n",
       "    .dataframe thead th {\n",
       "        text-align: right;\n",
       "    }\n",
       "</style>\n",
       "<table border=\"1\" class=\"dataframe\">\n",
       "  <thead>\n",
       "    <tr style=\"text-align: right;\">\n",
       "      <th></th>\n",
       "      <th>yrsold</th>\n",
       "      <th>rate</th>\n",
       "      <th>population</th>\n",
       "      <th>income</th>\n",
       "      <th>units</th>\n",
       "    </tr>\n",
       "  </thead>\n",
       "  <tbody>\n",
       "    <tr>\n",
       "      <th>0</th>\n",
       "      <td>2006</td>\n",
       "      <td>6.410</td>\n",
       "      <td>2982644</td>\n",
       "      <td>104274.900</td>\n",
       "      <td>12837</td>\n",
       "    </tr>\n",
       "    <tr>\n",
       "      <th>1</th>\n",
       "      <td>2007</td>\n",
       "      <td>6.340</td>\n",
       "      <td>2999212</td>\n",
       "      <td>112285.400</td>\n",
       "      <td>10733</td>\n",
       "    </tr>\n",
       "    <tr>\n",
       "      <th>2</th>\n",
       "      <td>2008</td>\n",
       "      <td>6.030</td>\n",
       "      <td>3016734</td>\n",
       "      <td>115292.000</td>\n",
       "      <td>7696</td>\n",
       "    </tr>\n",
       "    <tr>\n",
       "      <th>3</th>\n",
       "      <td>2009</td>\n",
       "      <td>5.040</td>\n",
       "      <td>3032870</td>\n",
       "      <td>114080.900</td>\n",
       "      <td>6957</td>\n",
       "    </tr>\n",
       "    <tr>\n",
       "      <th>4</th>\n",
       "      <td>2010</td>\n",
       "      <td>4.690</td>\n",
       "      <td>3050767</td>\n",
       "      <td>118496.000</td>\n",
       "      <td>7507</td>\n",
       "    </tr>\n",
       "  </tbody>\n",
       "</table>\n",
       "</div>"
      ],
      "text/plain": [
       "   yrsold  rate  population     income  units\n",
       "0    2006 6.410     2982644 104274.900  12837\n",
       "1    2007 6.340     2999212 112285.400  10733\n",
       "2    2008 6.030     3016734 115292.000   7696\n",
       "3    2009 5.040     3032870 114080.900   6957\n",
       "4    2010 4.690     3050767 118496.000   7507"
      ]
     },
     "execution_count": 46,
     "metadata": {},
     "output_type": "execute_result"
    }
   ],
   "source": [
    "# create economic data dataframe:\n",
    "data = {'yrsold': [2006, 2007, 2008, 2009, 2010],\n",
    "       'rate': [6.41, 6.34, 6.03, 5.04, 4.69],\n",
    "       'population': [2982644, 2999212, 3016734, 3032870, 3050767],\n",
    "        'income': [104274.9, 112285.4, 115292, 114080.9, 118496],\n",
    "        'units': [12837, 10733, 7696, 6957, 7507]}\n",
    "economic_df = pd.DataFrame(data)\n",
    "economic_df"
   ]
  },
  {
   "cell_type": "code",
   "execution_count": 47,
   "metadata": {},
   "outputs": [
    {
     "data": {
      "text/html": [
       "<div>\n",
       "<style scoped>\n",
       "    .dataframe tbody tr th:only-of-type {\n",
       "        vertical-align: middle;\n",
       "    }\n",
       "\n",
       "    .dataframe tbody tr th {\n",
       "        vertical-align: top;\n",
       "    }\n",
       "\n",
       "    .dataframe thead th {\n",
       "        text-align: right;\n",
       "    }\n",
       "</style>\n",
       "<table border=\"1\" class=\"dataframe\">\n",
       "  <thead>\n",
       "    <tr style=\"text-align: right;\">\n",
       "      <th></th>\n",
       "      <th>overallqual</th>\n",
       "      <th>grlivarea</th>\n",
       "      <th>garagearea</th>\n",
       "      <th>totalbsmtsf</th>\n",
       "      <th>more1_fullbath</th>\n",
       "      <th>yearbuilt_after1960</th>\n",
       "      <th>yearremodadd_after1990</th>\n",
       "      <th>saleprice</th>\n",
       "      <th>yrsold</th>\n",
       "      <th>mosold</th>\n",
       "      <th>rate</th>\n",
       "      <th>population</th>\n",
       "      <th>income</th>\n",
       "      <th>units</th>\n",
       "    </tr>\n",
       "  </thead>\n",
       "  <tbody>\n",
       "    <tr>\n",
       "      <th>0</th>\n",
       "      <td>0.651</td>\n",
       "      <td>0.459</td>\n",
       "      <td>0.410</td>\n",
       "      <td>-0.304</td>\n",
       "      <td>1</td>\n",
       "      <td>1</td>\n",
       "      <td>1</td>\n",
       "      <td>12.248</td>\n",
       "      <td>2008</td>\n",
       "      <td>2</td>\n",
       "      <td>6.030</td>\n",
       "      <td>3016734</td>\n",
       "      <td>115292.000</td>\n",
       "      <td>7696</td>\n",
       "    </tr>\n",
       "    <tr>\n",
       "      <th>1</th>\n",
       "      <td>0.651</td>\n",
       "      <td>0.600</td>\n",
       "      <td>0.604</td>\n",
       "      <td>-0.164</td>\n",
       "      <td>1</td>\n",
       "      <td>1</td>\n",
       "      <td>1</td>\n",
       "      <td>12.317</td>\n",
       "      <td>2008</td>\n",
       "      <td>9</td>\n",
       "      <td>6.030</td>\n",
       "      <td>3016734</td>\n",
       "      <td>115292.000</td>\n",
       "      <td>7696</td>\n",
       "    </tr>\n",
       "    <tr>\n",
       "      <th>2</th>\n",
       "      <td>1.375</td>\n",
       "      <td>1.315</td>\n",
       "      <td>1.268</td>\n",
       "      <td>0.292</td>\n",
       "      <td>1</td>\n",
       "      <td>1</td>\n",
       "      <td>1</td>\n",
       "      <td>12.429</td>\n",
       "      <td>2008</td>\n",
       "      <td>12</td>\n",
       "      <td>6.030</td>\n",
       "      <td>3016734</td>\n",
       "      <td>115292.000</td>\n",
       "      <td>7696</td>\n",
       "    </tr>\n",
       "    <tr>\n",
       "      <th>3</th>\n",
       "      <td>0.651</td>\n",
       "      <td>0.578</td>\n",
       "      <td>0.133</td>\n",
       "      <td>-0.096</td>\n",
       "      <td>1</td>\n",
       "      <td>0</td>\n",
       "      <td>0</td>\n",
       "      <td>11.775</td>\n",
       "      <td>2008</td>\n",
       "      <td>4</td>\n",
       "      <td>6.030</td>\n",
       "      <td>3016734</td>\n",
       "      <td>115292.000</td>\n",
       "      <td>7696</td>\n",
       "    </tr>\n",
       "    <tr>\n",
       "      <th>4</th>\n",
       "      <td>-0.795</td>\n",
       "      <td>-0.863</td>\n",
       "      <td>-1.007</td>\n",
       "      <td>-0.015</td>\n",
       "      <td>0</td>\n",
       "      <td>0</td>\n",
       "      <td>0</td>\n",
       "      <td>11.678</td>\n",
       "      <td>2008</td>\n",
       "      <td>1</td>\n",
       "      <td>6.030</td>\n",
       "      <td>3016734</td>\n",
       "      <td>115292.000</td>\n",
       "      <td>7696</td>\n",
       "    </tr>\n",
       "  </tbody>\n",
       "</table>\n",
       "</div>"
      ],
      "text/plain": [
       "   overallqual  grlivarea  garagearea  totalbsmtsf  more1_fullbath  \\\n",
       "0        0.651      0.459       0.410       -0.304               1   \n",
       "1        0.651      0.600       0.604       -0.164               1   \n",
       "2        1.375      1.315       1.268        0.292               1   \n",
       "3        0.651      0.578       0.133       -0.096               1   \n",
       "4       -0.795     -0.863      -1.007       -0.015               0   \n",
       "\n",
       "   yearbuilt_after1960  yearremodadd_after1990  saleprice  yrsold  mosold  \\\n",
       "0                    1                       1     12.248    2008       2   \n",
       "1                    1                       1     12.317    2008       9   \n",
       "2                    1                       1     12.429    2008      12   \n",
       "3                    0                       0     11.775    2008       4   \n",
       "4                    0                       0     11.678    2008       1   \n",
       "\n",
       "   rate  population     income  units  \n",
       "0 6.030     3016734 115292.000   7696  \n",
       "1 6.030     3016734 115292.000   7696  \n",
       "2 6.030     3016734 115292.000   7696  \n",
       "3 6.030     3016734 115292.000   7696  \n",
       "4 6.030     3016734 115292.000   7696  "
      ]
     },
     "execution_count": 47,
     "metadata": {},
     "output_type": "execute_result"
    }
   ],
   "source": [
    "merged_df = pd.merge(new_df, economic_df, on='yrsold')\n",
    "merged_df.head()"
   ]
  },
  {
   "cell_type": "code",
   "execution_count": 48,
   "metadata": {},
   "outputs": [
    {
     "data": {
      "image/png": "[encoded data removed]",
      "text/plain": [
       "<Figure size 720x720 with 4 Axes>"
      ]
     },
     "metadata": {
      "needs_background": "light"
     },
     "output_type": "display_data"
    }
   ],
   "source": [
    "# review outliers in the new features:\n",
    "plt.figure(figsize = (10,10))\n",
    "\n",
    "plt.subplot(2,2,1)\n",
    "plt.boxplot(merged_df['rate'], whis=1.5)\n",
    "plt.title('Box plot of rate (whis=1.5)')\n",
    "\n",
    "plt.subplot(2,2,2)\n",
    "plt.boxplot(merged_df['population'], whis=1.5)\n",
    "plt.title('Box plot of population (whis=1.5)')\n",
    "\n",
    "plt.subplot(2,2,3)\n",
    "plt.boxplot(merged_df['income'], whis=1.5)\n",
    "plt.title('Box plot of income (whis=1.5)')\n",
    "\n",
    "plt.subplot(2,2,4)\n",
    "plt.boxplot(merged_df['units'], whis=1.5)\n",
    "plt.title('Box plot of units (whis=1.5)')\n",
    "\n",
    "plt.show()"
   ]
  },
  {
   "cell_type": "code",
   "execution_count": 49,
   "metadata": {},
   "outputs": [
    {
     "data": {
      "text/plain": [
       "Text(0.5, 1.0, 'Box plot of income_w (whis=1.5)')"
      ]
     },
     "execution_count": 49,
     "metadata": {},
     "output_type": "execute_result"
    },
    {
     "data": {
      "image/png": "[encoded data removed]",
      "text/plain": [
       "<Figure size 432x288 with 1 Axes>"
      ]
     },
     "metadata": {
      "needs_background": "light"
     },
     "output_type": "display_data"
    }
   ],
   "source": [
    "# even out income over years\n",
    "income_w = winsorize(merged_df['income'], (0.23, 0))\n",
    "plt.boxplot(income_w, whis=1.5)\n",
    "plt.title('Box plot of income_w (whis=1.5)')"
   ]
  },
  {
   "cell_type": "code",
   "execution_count": 50,
   "metadata": {},
   "outputs": [
    {
     "data": {
      "image/png": "[encoded data removed]",
      "text/plain": [
       "<Figure size 1080x720 with 4 Axes>"
      ]
     },
     "metadata": {
      "needs_background": "light"
     },
     "output_type": "display_data"
    }
   ],
   "source": [
    "# review distribution of the new features:\n",
    "plt.figure(figsize = (15,10))\n",
    "\n",
    "plt.subplot(2,2,1)\n",
    "plt.hist(merged_df['rate'])\n",
    "plt.title('Histogram plot of rate')\n",
    "\n",
    "plt.subplot(2,2,2)\n",
    "plt.hist(merged_df['population'])\n",
    "plt.title('Histogram of population')\n",
    "\n",
    "plt.subplot(2,2,3)\n",
    "plt.hist(income_w)\n",
    "plt.title('Histogram of income')\n",
    "\n",
    "plt.subplot(2,2,4)\n",
    "plt.hist(merged_df['units'])\n",
    "plt.title('Histogram of units')\n",
    "\n",
    "plt.show()"
   ]
  },
  {
   "cell_type": "code",
   "execution_count": 51,
   "metadata": {},
   "outputs": [
    {
     "data": {
      "image/png": "[encoded data removed]",
      "text/plain": [
       "<Figure size 1080x720 with 4 Axes>"
      ]
     },
     "metadata": {
      "needs_background": "light"
     },
     "output_type": "display_data"
    }
   ],
   "source": [
    "# try square root transformation:\n",
    "plt.figure(figsize = (15,10))\n",
    "\n",
    "plt.subplot(2,2,1)\n",
    "plt.hist(np.sqrt(merged_df['rate']))\n",
    "plt.title('Histogram of rate')\n",
    "\n",
    "plt.subplot(2,2,2)\n",
    "plt.hist(np.sqrt(merged_df['population']))\n",
    "plt.title('Histogram of population')\n",
    "\n",
    "plt.subplot(2,2,3)\n",
    "plt.hist(np.sqrt(income_w))\n",
    "plt.title('Histogram of income')\n",
    "\n",
    "plt.subplot(2,2,4)\n",
    "plt.hist(np.sqrt(merged_df['units']))\n",
    "plt.title('Histogram of units')\n",
    "\n",
    "plt.show()"
   ]
  },
  {
   "cell_type": "code",
   "execution_count": 52,
   "metadata": {},
   "outputs": [],
   "source": [
    "norm_df2 = merged_df.copy()"
   ]
  },
  {
   "cell_type": "code",
   "execution_count": 53,
   "metadata": {},
   "outputs": [
    {
     "data": {
      "text/html": [
       "<div>\n",
       "<style scoped>\n",
       "    .dataframe tbody tr th:only-of-type {\n",
       "        vertical-align: middle;\n",
       "    }\n",
       "\n",
       "    .dataframe tbody tr th {\n",
       "        vertical-align: top;\n",
       "    }\n",
       "\n",
       "    .dataframe thead th {\n",
       "        text-align: right;\n",
       "    }\n",
       "</style>\n",
       "<table border=\"1\" class=\"dataframe\">\n",
       "  <thead>\n",
       "    <tr style=\"text-align: right;\">\n",
       "      <th></th>\n",
       "      <th>overallqual</th>\n",
       "      <th>grlivarea</th>\n",
       "      <th>garagearea</th>\n",
       "      <th>totalbsmtsf</th>\n",
       "      <th>more1_fullbath</th>\n",
       "      <th>yearbuilt_after1960</th>\n",
       "      <th>yearremodadd_after1990</th>\n",
       "      <th>saleprice</th>\n",
       "      <th>yrsold</th>\n",
       "      <th>mosold</th>\n",
       "      <th>rate</th>\n",
       "      <th>population</th>\n",
       "      <th>income</th>\n",
       "      <th>units</th>\n",
       "    </tr>\n",
       "  </thead>\n",
       "  <tbody>\n",
       "    <tr>\n",
       "      <th>0</th>\n",
       "      <td>0.651</td>\n",
       "      <td>0.459</td>\n",
       "      <td>0.410</td>\n",
       "      <td>-0.304</td>\n",
       "      <td>1</td>\n",
       "      <td>1</td>\n",
       "      <td>1</td>\n",
       "      <td>12.248</td>\n",
       "      <td>2008</td>\n",
       "      <td>2</td>\n",
       "      <td>6.030</td>\n",
       "      <td>3016734</td>\n",
       "      <td>115292.000</td>\n",
       "      <td>7696</td>\n",
       "    </tr>\n",
       "    <tr>\n",
       "      <th>1</th>\n",
       "      <td>0.651</td>\n",
       "      <td>0.600</td>\n",
       "      <td>0.604</td>\n",
       "      <td>-0.164</td>\n",
       "      <td>1</td>\n",
       "      <td>1</td>\n",
       "      <td>1</td>\n",
       "      <td>12.317</td>\n",
       "      <td>2008</td>\n",
       "      <td>9</td>\n",
       "      <td>6.030</td>\n",
       "      <td>3016734</td>\n",
       "      <td>115292.000</td>\n",
       "      <td>7696</td>\n",
       "    </tr>\n",
       "    <tr>\n",
       "      <th>2</th>\n",
       "      <td>1.375</td>\n",
       "      <td>1.315</td>\n",
       "      <td>1.268</td>\n",
       "      <td>0.292</td>\n",
       "      <td>1</td>\n",
       "      <td>1</td>\n",
       "      <td>1</td>\n",
       "      <td>12.429</td>\n",
       "      <td>2008</td>\n",
       "      <td>12</td>\n",
       "      <td>6.030</td>\n",
       "      <td>3016734</td>\n",
       "      <td>115292.000</td>\n",
       "      <td>7696</td>\n",
       "    </tr>\n",
       "    <tr>\n",
       "      <th>3</th>\n",
       "      <td>0.651</td>\n",
       "      <td>0.578</td>\n",
       "      <td>0.133</td>\n",
       "      <td>-0.096</td>\n",
       "      <td>1</td>\n",
       "      <td>0</td>\n",
       "      <td>0</td>\n",
       "      <td>11.775</td>\n",
       "      <td>2008</td>\n",
       "      <td>4</td>\n",
       "      <td>6.030</td>\n",
       "      <td>3016734</td>\n",
       "      <td>115292.000</td>\n",
       "      <td>7696</td>\n",
       "    </tr>\n",
       "    <tr>\n",
       "      <th>4</th>\n",
       "      <td>-0.795</td>\n",
       "      <td>-0.863</td>\n",
       "      <td>-1.007</td>\n",
       "      <td>-0.015</td>\n",
       "      <td>0</td>\n",
       "      <td>0</td>\n",
       "      <td>0</td>\n",
       "      <td>11.678</td>\n",
       "      <td>2008</td>\n",
       "      <td>1</td>\n",
       "      <td>6.030</td>\n",
       "      <td>3016734</td>\n",
       "      <td>115292.000</td>\n",
       "      <td>7696</td>\n",
       "    </tr>\n",
       "  </tbody>\n",
       "</table>\n",
       "</div>"
      ],
      "text/plain": [
       "   overallqual  grlivarea  garagearea  totalbsmtsf  more1_fullbath  \\\n",
       "0        0.651      0.459       0.410       -0.304               1   \n",
       "1        0.651      0.600       0.604       -0.164               1   \n",
       "2        1.375      1.315       1.268        0.292               1   \n",
       "3        0.651      0.578       0.133       -0.096               1   \n",
       "4       -0.795     -0.863      -1.007       -0.015               0   \n",
       "\n",
       "   yearbuilt_after1960  yearremodadd_after1990  saleprice  yrsold  mosold  \\\n",
       "0                    1                       1     12.248    2008       2   \n",
       "1                    1                       1     12.317    2008       9   \n",
       "2                    1                       1     12.429    2008      12   \n",
       "3                    0                       0     11.775    2008       4   \n",
       "4                    0                       0     11.678    2008       1   \n",
       "\n",
       "   rate  population     income  units  \n",
       "0 6.030     3016734 115292.000   7696  \n",
       "1 6.030     3016734 115292.000   7696  \n",
       "2 6.030     3016734 115292.000   7696  \n",
       "3 6.030     3016734 115292.000   7696  \n",
       "4 6.030     3016734 115292.000   7696  "
      ]
     },
     "execution_count": 53,
     "metadata": {},
     "output_type": "execute_result"
    }
   ],
   "source": [
    "norm_df2.head()"
   ]
  },
  {
   "cell_type": "code",
   "execution_count": 54,
   "metadata": {},
   "outputs": [],
   "source": [
    "norm_df2['income'] = income_w"
   ]
  },
  {
   "cell_type": "code",
   "execution_count": 55,
   "metadata": {},
   "outputs": [],
   "source": [
    "# standartize features:\n",
    "norm_df2['rate'] = scale(norm_df2['rate'])\n",
    "norm_df2['income'] = scale(np.sqrt(norm_df2['income']))\n",
    "norm_df2['population'] = scale(np.sqrt(norm_df2['population']))\n",
    "norm_df2['units'] = scale(np.sqrt(norm_df2['units']))"
   ]
  },
  {
   "cell_type": "code",
   "execution_count": 56,
   "metadata": {},
   "outputs": [
    {
     "data": {
      "text/html": [
       "<div>\n",
       "<style scoped>\n",
       "    .dataframe tbody tr th:only-of-type {\n",
       "        vertical-align: middle;\n",
       "    }\n",
       "\n",
       "    .dataframe tbody tr th {\n",
       "        vertical-align: top;\n",
       "    }\n",
       "\n",
       "    .dataframe thead th {\n",
       "        text-align: right;\n",
       "    }\n",
       "</style>\n",
       "<table border=\"1\" class=\"dataframe\">\n",
       "  <thead>\n",
       "    <tr style=\"text-align: right;\">\n",
       "      <th></th>\n",
       "      <th>overallqual</th>\n",
       "      <th>grlivarea</th>\n",
       "      <th>garagearea</th>\n",
       "      <th>totalbsmtsf</th>\n",
       "      <th>more1_fullbath</th>\n",
       "      <th>yearbuilt_after1960</th>\n",
       "      <th>yearremodadd_after1990</th>\n",
       "      <th>saleprice</th>\n",
       "      <th>rate</th>\n",
       "      <th>population</th>\n",
       "      <th>income</th>\n",
       "      <th>units</th>\n",
       "    </tr>\n",
       "  </thead>\n",
       "  <tbody>\n",
       "    <tr>\n",
       "      <th>0</th>\n",
       "      <td>0.651</td>\n",
       "      <td>0.459</td>\n",
       "      <td>0.410</td>\n",
       "      <td>-0.304</td>\n",
       "      <td>1</td>\n",
       "      <td>1</td>\n",
       "      <td>1</td>\n",
       "      <td>12.248</td>\n",
       "      <td>0.360</td>\n",
       "      <td>0.156</td>\n",
       "      <td>0.611</td>\n",
       "      <td>-0.675</td>\n",
       "    </tr>\n",
       "    <tr>\n",
       "      <th>1</th>\n",
       "      <td>0.651</td>\n",
       "      <td>0.600</td>\n",
       "      <td>0.604</td>\n",
       "      <td>-0.164</td>\n",
       "      <td>1</td>\n",
       "      <td>1</td>\n",
       "      <td>1</td>\n",
       "      <td>12.317</td>\n",
       "      <td>0.360</td>\n",
       "      <td>0.156</td>\n",
       "      <td>0.611</td>\n",
       "      <td>-0.675</td>\n",
       "    </tr>\n",
       "    <tr>\n",
       "      <th>2</th>\n",
       "      <td>1.375</td>\n",
       "      <td>1.315</td>\n",
       "      <td>1.268</td>\n",
       "      <td>0.292</td>\n",
       "      <td>1</td>\n",
       "      <td>1</td>\n",
       "      <td>1</td>\n",
       "      <td>12.429</td>\n",
       "      <td>0.360</td>\n",
       "      <td>0.156</td>\n",
       "      <td>0.611</td>\n",
       "      <td>-0.675</td>\n",
       "    </tr>\n",
       "    <tr>\n",
       "      <th>3</th>\n",
       "      <td>0.651</td>\n",
       "      <td>0.578</td>\n",
       "      <td>0.133</td>\n",
       "      <td>-0.096</td>\n",
       "      <td>1</td>\n",
       "      <td>0</td>\n",
       "      <td>0</td>\n",
       "      <td>11.775</td>\n",
       "      <td>0.360</td>\n",
       "      <td>0.156</td>\n",
       "      <td>0.611</td>\n",
       "      <td>-0.675</td>\n",
       "    </tr>\n",
       "    <tr>\n",
       "      <th>4</th>\n",
       "      <td>-0.795</td>\n",
       "      <td>-0.863</td>\n",
       "      <td>-1.007</td>\n",
       "      <td>-0.015</td>\n",
       "      <td>0</td>\n",
       "      <td>0</td>\n",
       "      <td>0</td>\n",
       "      <td>11.678</td>\n",
       "      <td>0.360</td>\n",
       "      <td>0.156</td>\n",
       "      <td>0.611</td>\n",
       "      <td>-0.675</td>\n",
       "    </tr>\n",
       "  </tbody>\n",
       "</table>\n",
       "</div>"
      ],
      "text/plain": [
       "   overallqual  grlivarea  garagearea  totalbsmtsf  more1_fullbath  \\\n",
       "0        0.651      0.459       0.410       -0.304               1   \n",
       "1        0.651      0.600       0.604       -0.164               1   \n",
       "2        1.375      1.315       1.268        0.292               1   \n",
       "3        0.651      0.578       0.133       -0.096               1   \n",
       "4       -0.795     -0.863      -1.007       -0.015               0   \n",
       "\n",
       "   yearbuilt_after1960  yearremodadd_after1990  saleprice  rate  population  \\\n",
       "0                    1                       1     12.248 0.360       0.156   \n",
       "1                    1                       1     12.317 0.360       0.156   \n",
       "2                    1                       1     12.429 0.360       0.156   \n",
       "3                    0                       0     11.775 0.360       0.156   \n",
       "4                    0                       0     11.678 0.360       0.156   \n",
       "\n",
       "   income  units  \n",
       "0   0.611 -0.675  \n",
       "1   0.611 -0.675  \n",
       "2   0.611 -0.675  \n",
       "3   0.611 -0.675  \n",
       "4   0.611 -0.675  "
      ]
     },
     "execution_count": 56,
     "metadata": {},
     "output_type": "execute_result"
    }
   ],
   "source": [
    "# drop variables higly correlated with others:\n",
    "norm_df2 = norm_df2.drop(['yrsold',\n",
    "                         'mosold'], axis=1)\n",
    "norm_df2.head()"
   ]
  },
  {
   "cell_type": "code",
   "execution_count": 57,
   "metadata": {},
   "outputs": [
    {
     "data": {
      "text/plain": [
       "<matplotlib.axes._subplots.AxesSubplot at 0x12533fcf8>"
      ]
     },
     "execution_count": 57,
     "metadata": {},
     "output_type": "execute_result"
    },
    {
     "data": {
      "image/png": "[encoded data removed]",
      "text/plain": [
       "<Figure size 720x720 with 2 Axes>"
      ]
     },
     "metadata": {
      "needs_background": "light"
     },
     "output_type": "display_data"
    }
   ],
   "source": [
    "plt.figure(figsize=(10,10))\n",
    "sns.heatmap(norm_df2.corr(), annot=True, square=True)"
   ]
  },
  {
   "cell_type": "markdown",
   "metadata": {},
   "source": [
    "Rate and units are highly correlated. Population and income and are highly correlated. We'll only use rate and income as our additional features."
   ]
  },
  {
   "cell_type": "code",
   "execution_count": 58,
   "metadata": {},
   "outputs": [
    {
     "name": "stdout",
     "output_type": "stream",
     "text": [
      "The number of observations in training set is 1168\n",
      "The number of observations in test set is 292\n"
     ]
    }
   ],
   "source": [
    "# Y is the target variable\n",
    "Y = norm_df2['saleprice']\n",
    "\n",
    "# X is the feature set\n",
    "X = norm_df2[['overallqual','grlivarea', 'garagearea', 'totalbsmtsf',\n",
    "            'yearbuilt_after1960','yearremodadd_after1990', 'rate', 'income']]\n",
    "\n",
    "# split data into train and test sets:\n",
    "X_train, X_test, y_train, y_test = train_test_split(X, Y, test_size = 0.2, random_state = 465)\n",
    "\n",
    "print(\"The number of observations in training set is {}\".format(X_train.shape[0]))\n",
    "print(\"The number of observations in test set is {}\".format(X_test.shape[0]))"
   ]
  },
  {
   "cell_type": "markdown",
   "metadata": {},
   "source": [
    "### Linear Regression"
   ]
  },
  {
   "cell_type": "code",
   "execution_count": 59,
   "metadata": {
    "scrolled": true
   },
   "outputs": [
    {
     "name": "stdout",
     "output_type": "stream",
     "text": [
      "\n",
      "Coefficients: \n",
      " [0.13516652 0.11469183 0.06004902 0.06150769 0.08022281 0.11247511\n",
      " 0.0112823  0.00559689]\n",
      "\n",
      "Intercept: \n",
      " 11.908483785768594\n"
     ]
    }
   ],
   "source": [
    "lrm = LinearRegression()\n",
    "lrm.fit(X_train, y_train)\n",
    "print('\\nCoefficients: \\n', lrm.coef_)\n",
    "print('\\nIntercept: \\n', lrm.intercept_)"
   ]
  },
  {
   "cell_type": "markdown",
   "metadata": {},
   "source": [
    "Adding additional data slightly changed coefficients - it decreased some and increased some. Parameters of our first model on the original dataset:\n",
    "\n",
    "\"Coefficients: \n",
    " [0.13531618 0.12281668 0.05983581 0.05880047 0.07774852 0.10428264]\n",
    " \n",
    "Intercept: \n",
    " 11.914810030496906\""
   ]
  },
  {
   "cell_type": "code",
   "execution_count": 60,
   "metadata": {},
   "outputs": [
    {
     "data": {
      "image/png": "[encoded data removed]",
      "text/plain": [
       "<Figure size 432x288 with 1 Axes>"
      ]
     },
     "metadata": {
      "needs_background": "light"
     },
     "output_type": "display_data"
    },
    {
     "name": "stdout",
     "output_type": "stream",
     "text": [
      "Score of the model in the training set is: 0.8194477195918802\n",
      "Test set statistics:\n",
      "Score of the model in the test set is: 0.8261384435300168\n",
      "Mean squared error of the prediction is: 0.02560748351662728\n"
     ]
    }
   ],
   "source": [
    "# Evaluate model on the test set:\n",
    "y_preds = lrm.predict(X_test)\n",
    "\n",
    "plt.scatter(y_test, y_preds)\n",
    "plt.plot(y_test, y_test, color=\"red\")\n",
    "plt.xlabel('true values')\n",
    "plt.ylabel('predicted values')\n",
    "plt.title('Saleprice: true and predicted values')\n",
    "plt.show()\n",
    "\n",
    "print('Score of the model in the training set is: {}'.format(lrm.score(X_train, y_train)))\n",
    "print('Test set statistics:')\n",
    "print('Score of the model in the test set is: {}'.format(lrm.score(X_test, y_test)))\n",
    "print('Mean squared error of the prediction is: {}'.format(mse(y_test, y_preds)))"
   ]
  },
  {
   "cell_type": "markdown",
   "metadata": {},
   "source": [
    "Score stayed in the same range with less difference between train and test data (82% and 83%). MSE is still low."
   ]
  },
  {
   "cell_type": "code",
   "execution_count": 61,
   "metadata": {},
   "outputs": [
    {
     "name": "stdout",
     "output_type": "stream",
     "text": [
      "                            OLS Regression Results                            \n",
      "==============================================================================\n",
      "Dep. Variable:              saleprice   R-squared:                       0.819\n",
      "Model:                            OLS   Adj. R-squared:                  0.818\n",
      "Method:                 Least Squares   F-statistic:                     657.5\n",
      "Date:                Wed, 21 Aug 2019   Prob (F-statistic):               0.00\n",
      "Time:                        22:30:53   Log-Likelihood:                 465.86\n",
      "No. Observations:                1168   AIC:                            -913.7\n",
      "Df Residuals:                    1159   BIC:                            -868.1\n",
      "Df Model:                           8                                         \n",
      "Covariance Type:            nonrobust                                         \n",
      "==========================================================================================\n",
      "                             coef    std err          t      P>|t|      [0.025      0.975]\n",
      "------------------------------------------------------------------------------------------\n",
      "const                     11.9085      0.010   1136.407      0.000      11.888      11.929\n",
      "overallqual                0.1352      0.008     17.810      0.000       0.120       0.150\n",
      "grlivarea                  0.1147      0.006     18.388      0.000       0.102       0.127\n",
      "garagearea                 0.0600      0.006     10.107      0.000       0.048       0.072\n",
      "totalbsmtsf                0.0615      0.006     10.702      0.000       0.050       0.073\n",
      "yearbuilt_after1960        0.0802      0.012      6.804      0.000       0.057       0.103\n",
      "yearremodadd_after1990     0.1125      0.011     10.124      0.000       0.091       0.134\n",
      "rate                       0.0113      0.007      1.580      0.114      -0.003       0.025\n",
      "income                     0.0056      0.007      0.793      0.428      -0.008       0.019\n",
      "==============================================================================\n",
      "Omnibus:                      564.193   Durbin-Watson:                   2.104\n",
      "Prob(Omnibus):                  0.000   Jarque-Bera (JB):             9352.451\n",
      "Skew:                          -1.810   Prob(JB):                         0.00\n",
      "Kurtosis:                      16.381   Cond. No.                         5.24\n",
      "==============================================================================\n",
      "\n",
      "Warnings:\n",
      "[1] Standard Errors assume that the covariance matrix of the errors is correctly specified.\n"
     ]
    }
   ],
   "source": [
    "# review results using statsmodels\n",
    "X_train = sm.add_constant(X_train)\n",
    "results = sm.OLS(y_train, X_train).fit()\n",
    "print(results.summary())"
   ]
  },
  {
   "cell_type": "markdown",
   "metadata": {},
   "source": [
    "**The p-values for the coefficients of interest rate and income are more than 0.05, which means there appears to be no relationship between interest rates and sale price and income and sale price.** This is an interesting finding, and could possibly be explained by the fact that maybe in Ames, Iowa, house prices do not depend on decreasing federal interest rate. "
   ]
  },
  {
   "cell_type": "markdown",
   "metadata": {},
   "source": [
    "### Summary\n",
    "\n",
    "We built a linear regression model with a few features covering overall house quality, size of the house, garage and basement, as well as age of house/remodel date affecting sale prices. About 83% of variance in house sale prices can be explained by the model.\n",
    "\n",
    "Adding economic data such as interest rate and population income did not improve the prediction performance of our model."
   ]
  },
  {
   "cell_type": "code",
   "execution_count": null,
   "metadata": {},
   "outputs": [],
   "source": []
  }
 ],
 "metadata": {
  "kernelspec": {
   "display_name": "Python 3",
   "language": "python",
   "name": "python3"
  },
  "language_info": {
   "codemirror_mode": {
    "name": "ipython",
    "version": 3
   },
   "file_extension": ".py",
   "mimetype": "text/x-python",
   "name": "python",
   "nbconvert_exporter": "python",
   "pygments_lexer": "ipython3",
   "version": "3.7.3"
  }
 },
 "nbformat": 4,
 "nbformat_minor": 2
}
